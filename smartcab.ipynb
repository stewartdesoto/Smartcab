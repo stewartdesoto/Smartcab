{
 "cells": [
  {
   "cell_type": "code",
   "execution_count": null,
   "metadata": {
    "collapsed": true
   },
   "outputs": [],
   "source": [
    "import matplotlib.pyplot as plt\n",
    "%matplotlib inline\n"
   ]
  },
  {
   "cell_type": "code",
   "execution_count": 86,
   "metadata": {
    "collapsed": false
   },
   "outputs": [
    {
     "data": {
      "text/plain": [
       "\"\\n self.alpha = 0.1\\n self.gamma = 0.1\\n self.epsilon = 1./(self.iteration + 1)\\n self.state = random.random([None, 'left', 'right', 'forward'])\\n\""
      ]
     },
     "execution_count": 86,
     "metadata": {},
     "output_type": "execute_result"
    }
   ],
   "source": [
    "'''\n",
    " self.alpha = 0.1\n",
    " self.gamma = 0.1\n",
    " self.epsilon = 1./(self.iteration + 1)\n",
    " action = random.random([None, 'left', 'right', 'forward'])\n",
    "'''"
   ]
  },
  {
   "cell_type": "code",
   "execution_count": 70,
   "metadata": {
    "collapsed": false
   },
   "outputs": [],
   "source": [
    "random_moves =  [0, 0, 0, 0, 0, 0, 0, 0, 0, 1,\n",
    "           0, 0, 0, 1, 0, 0, 0, 0, 0, 0,\n",
    "           1, 0, 0, 0, 0, 1, 0, 0, 0, 1,\n",
    "           0, 0, 0, 0, 1, 0, 0, 0, 0, 0,\n",
    "           0, 0, 0, 1, 0, 0, 0, 0, 0, 1,\n",
    "           0, 0, 0, 1, 1, 0, 0, 0, 0, 0,\n",
    "           0, 0, 0, 0, 0, 0, 0, 0, 0, 0,\n",
    "           0, 0, 0, 0, 0, 1, 0, 1, 0, 0,\n",
    "           0, 0, 0, 0, 0, 0, 0, 0, 0, 0,\n",
    "           0, 0, 0, 0, 0, 0, 0, 0, 0, 1]"
   ]
  },
  {
   "cell_type": "code",
   "execution_count": 72,
   "metadata": {
    "collapsed": false
   },
   "outputs": [
    {
     "data": {
      "image/png": "[encoded data removed]",
      "text/plain": [
       "<matplotlib.figure.Figure at 0x110e14110>"
      ]
     },
     "metadata": {},
     "output_type": "display_data"
    }
   ],
   "source": [
    "x=xrange(len(random_moves))\n",
    "plt.bar(x,random_moves)\n",
    "plt.xlabel('Trial')\n",
    "plt.ylabel('Smartcab Reaches Destination')\n",
    "plt.savefig('random_smartcab.png')"
   ]
  },
  {
   "cell_type": "markdown",
   "metadata": {},
   "source": [
    "# '''\n",
    " self.alpha = 0.1\n",
    " self.gamma = 0.1\n",
    " self.epsilon = 1./(self.iteration + 1)\n",
    " self.state = (self.next_waypoint, inputs['light'], inputs['oncoming'],\n",
    "     inputs['right'], inputs['left'])\n",
    "'''"
   ]
  },
  {
   "cell_type": "code",
   "execution_count": 160,
   "metadata": {
    "collapsed": true
   },
   "outputs": [],
   "source": [
    "optimal_distances1 = np.array([6, 4, 4, 4, 5, 8, 5, 6, 8, 9, 6, 5, 4, 7, 4, 6, 7, 5, 6, 8, 5, 5, 7, 5, 6, 9, 4, 8, 4, 6, 4, 8, 7, 6, 7, 7, 4, 5, 8, 7, 6, 5, 10, 9, 5, 5, 5, 4, 5, 4, 4, 5, 4, 5, 8, 7, 7, 10, 8, 4, 8, 4, 4, 5, 8, 6, 4, 5, 4, 4, 5, 5, 4, 8, 6, 5, 5, 5, 6, 7, 7, 4, 4, 10, 7, 6, 6, 5, 10, 7, 11, 6, 8, 4, 5, 8, 7, 8, 4, 7])"
   ]
  },
  {
   "cell_type": "code",
   "execution_count": 161,
   "metadata": {
    "collapsed": true
   },
   "outputs": [],
   "source": [
    "all_trial_moves1 = np.array([31, 21, 7, 21, 19, 18, 16, 29, 33, 20, 11, 10, 8, 12, 4, 6, 14, 21, 13, 22, 18, 16, 17, 16, 13, 10, 6, 20, 9, 16, 15, 21, 21, 25, 14, 13, 6, 21, 15, 3, 17, 6, 19, 17, 7, 13, 9, 4, 9, 8, 14, 16, 8, 13, 21, 21, 21, 11, 19, 9, 25, 21, 4, 11, 11, 15, 19, 11, 4, 7, 17, 7, 4, 9, 9, 11, 16, 16, 6, 21, 18, 16, 6, 21, 10, 21, 17, 13, 31, 22, 45, 17, 16, 11, 7, 22, 15, 27, 4, 13])"
   ]
  },
  {
   "cell_type": "code",
   "execution_count": 162,
   "metadata": {
    "collapsed": false
   },
   "outputs": [],
   "source": [
    "all_rewards1 = {1: [-0.5, -1.0, 2.0, 2.0, -0.5, -0.5, 0.0, -0.5, -0.5, 2.0, -0.5, 0.0, -0.5, -1.0, 0.0, 0.0, 0.0, 2.0, -0.5, 0.0, -1.0, -1.0, -1.0, -1.0, 2.0, 0.0, 2.0, 0.0, -0.5, -0.5, -1.0], 2: [-1.0, 0.0, 0.0, -1.0, 2.0, 2.0, -1.0, 0.0, -0.5, -1.0, -0.5, 2.0, 2.0, 0.0, 0.0, 0.0, 2.0, -1.0, -0.5, 0.0, 2.0], 3: [-0.5, -1.0, 2.0, 0.0, 0.0, 2.0, 12.0], 4: [0.0, -1.0, 0.0, 0.0, 2.0, 0.0, 0.0, 0.0, 0.0, 0.0, 2.0, 0.0, 0.0, 0.0, 0.0, 2.0, 0.0, -1.0, -1.0, 0.0, 12.0], 5: [2.0, 2.0, 0.0, -0.5, 2.0, -1.0, -0.5, 2.0, 2.0, 0.0, 0.0, 0.0, 0.0, 0.0, 0.0, 2.0, 0.0, 0.0, 12.0], 6: [2.0, 2.0, 2.0, -1.0, -0.5, 2.0, 0.0, 0.0, 0.0, -0.5, 2.0, -1.0, 2.0, 0.0, 0.0, 0.0, 2.0, 12.0], 7: [0.0, 0.0, 0.0, 0.0, 0.0, 2.0, 2.0, 2.0, 0.0, 0.0, 0.0, -1.0, 2.0, 0.0, 0.0, 12.0], 8: [2.0, 2.0, 0.0, 0.0, 2.0, -0.5, 2.0, 2.0, 2.0, -1.0, 0.0, 0.0, 2.0, 0.0, 0.0, 2.0, -0.5, 2.0, -0.5, 2.0, 2.0, 0.0, -1.0, -0.5, 2.0, 2.0, 2.0, 2.0, 12.0], 9: [0.0, 0.0, 0.0, 0.0, 0.0, 2.0, 2.0, 2.0, 0.0, 0.0, 0.0, 0.0, 2.0, 0.0, 0.0, 2.0, 2.0, -0.5, 2.0, 2.0, 2.0, 0.0, -0.5, 2.0, 2.0, 2.0, 2.0, 0.0, 0.0, 0.0, -0.5, 2.0, 12.0], 10: [2.0, 2.0, 0.0, 0.0, 2.0, 0.0, 0.0, 0.0, 2.0, 0.0, 2.0, 0.0, 2.0, 2.0, -0.5, 2.0, 2.0, 2.0, 2.0, 12.0], 11: [2.0, 0.0, 0.0, 0.0, 0.0, 2.0, 0.0, -0.5, 2.0, 2.0, 12.0], 12: [2.0, 0.0, 0.0, 0.0, 2.0, 0.0, 2.0, 0.0, 2.0, 12.0], 13: [2.0, 2.0, 0.0, 0.0, 0.0, 2.0, 0.0, 12.0], 14: [2.0, 0.0, 0.0, 0.0, 0.0, 2.0, 2.0, 2.0, 2.0, 0.0, 2.0, 12.0], 15: [2.0, 2.0, 2.0, 12.0], 16: [2.0, 2.0, 2.0, 2.0, 2.0, 12.0], 17: [2.0, 0.0, 0.0, 2.0, 2.0, 0.0, 0.0, 0.0, 2.0, 2.0, 0.0, 0.0, 2.0, 12.0], 18: [2.0, 2.0, 0.0, 0.0, -1.0, -0.5, 2.0, 0.0, 0.0, 0.0, 2.0, -0.5, 2.0, 0.0, 0.0, 2.0, 0.0, 0.0, 0.0, 0.0, 12.0], 19: [2.0, 0.0, 0.0, 2.0, 0.0, 2.0, 0.0, 0.0, 0.0, 0.0, 2.0, 2.0, 12.0], 20: [2.0, 0.0, 0.0, 0.0, 2.0, 0.0, 0.0, 0.0, 0.0, 0.0, 2.0, 2.0, 2.0, 0.0, 0.0, 2.0, 0.0, 0.0, 0.0, 0.0, 2.0, 12.0], 21: [0.0, 0.0, 0.0, 0.0, 2.0, 0.0, 0.0, 0.0, 0.0, 0.0, 2.0, 0.0, 0.0, -1.0, 0.0, 2.0, 2.0, 12.0], 22: [0.0, 0.0, 0.0, 0.0, 2.0, 0.0, 0.0, 0.0, 2.0, 2.0, 2.0, 0.0, 0.0, -1.0, 0.0, 12.0], 23: [2.0, 0.0, 0.0, 0.0, 2.0, 2.0, 0.0, 0.0, 0.0, 0.0, 2.0, 2.0, 2.0, 0.0, 0.0, 0.0, 12.0], 24: [2.0, 0.0, 0.0, 0.0, 2.0, 0.0, 0.0, 0.0, 0.0, 0.0, 2.0, 2.0, 0.0, 0.0, 0.0, 12.0], 25: [2.0, 2.0, 0.0, 0.0, 0.0, 2.0, 2.0, 0.0, 0.0, 0.0, 2.0, 0.0, 12.0], 26: [2.0, 2.0, 2.0, 0.0, -0.5, 2.0, 2.0, 2.0, 2.0, 12.0], 27: [2.0, 2.0, 0.0, 0.0, 2.0, 12.0], 28: [0.0, 0.0, 0.0, 0.0, -1.0, 2.0, 2.0, 2.0, 0.0, 0.0, 2.0, 0.0, 2.0, 0.0, 0.0, 0.0, 2.0, 0.0, 2.0, 12.0], 29: [0.0, 0.0, 0.0, 0.0, 0.0, 2.0, 2.0, 2.0, 12.0], 30: [0.0, 0.0, 0.0, 0.0, 2.0, 2.0, 0.0, 0.0, 2.0, 0.0, -0.5, 2.0, 0.0, 0.0, 0.0, 12.0], 31: [-0.5, 0.0, 0.0, 2.0, 0.0, 0.0, 0.0, -1.0, 2.0, 0.0, 2.0, 2.0, 2.0, 2.0, 12.0], 32: [0.0, 0.0, -0.5, 2.0, 0.0, 0.0, 0.0, 0.0, 2.0, 2.0, 2.0, 2.0, 2.0, 2.0, 0.0, 2.0, 0.0, 0.0, 0.0, 0.0, 12.0], 33: [0.0, 0.0, 0.0, 0.0, 0.0, 2.0, 0.0, 0.0, 2.0, 0.0, 0.0, 0.0, 2.0, 2.0, 2.0, 2.0, 0.0, 0.0, 0.0, 0.0, 12.0], 34: [0.0, 0.0, 0.0, 0.0, 2.0, 0.0, 0.0, 0.0, 2.0, 0.0, 2.0, 0.0, 0.0, 0.0, 0.0, 2.0, 0.0, 0.0, 0.0, 0.0, 2.0, 0.0, 0.0, 0.0, 12.0], 35: [0.0, 0.0, 0.0, 0.0, 0.0, -0.5, 2.0, 2.0, 2.0, 0.0, 2.0, 0.0, 2.0, 12.0], 36: [2.0, 0.0, 0.0, 0.0, 2.0, 2.0, 2.0, 0.0, 0.0, 0.0, 2.0, 2.0, 12.0], 37: [2.0, 2.0, 2.0, 0.0, -1.0, 12.0], 38: [0.0, 0.0, 0.0, 2.0, 0.0, 0.0, 0.0, 0.0, 2.0, 0.0, 2.0, 0.0, 0.0, 0.0, 0.0, 2.0, 0.0, 0.0, 0.0, 0.0, 12.0], 39: [0.0, 0.0, 0.0, 0.0, -0.5, 2.0, 2.0, 2.0, 0.0, 0.0, 2.0, 0.0, 2.0, 2.0, 12.0], 40: [2.0, 2.0, 12.0], 41: [2.0, 2.0, 0.0, 0.0, 2.0, 2.0, 2.0, 0.0, 0.0, 0.0, 2.0, 0.0, 2.0, 0.0, 0.0, 0.0, 12.0], 42: [2.0, 0.0, -0.5, 2.0, 2.0, 12.0], 43: [2.0, 0.0, 0.0, 0.0, 2.0, 0.0, 0.0, 0.0, 2.0, 0.0, 2.0, 0.0, 2.0, 2.0, 0.0, 2.0, 2.0, 2.0, 12.0], 44: [2.0, 2.0, 2.0, 2.0, 2.0, 0.0, 2.0, 2.0, 0.0, 0.0, 2.0, 2.0, 2.0, 0.0, 0.0, 0.0, 12.0], 45: [2.0, 0.0, 0.0, 2.0, 2.0, 2.0, 12.0], 46: [2.0, 0.0, 0.0, 0.0, 2.0, 2.0, 0.0, 0.0, 0.0, 0.0, 2.0, 0.0, 12.0], 47: [2.0, 2.0, 2.0, 0.0, 0.0, 2.0, 2.0, 2.0, 12.0], 48: [2.0, 2.0, 2.0, 12.0], 49: [2.0, 2.0, 2.0, 0.0, 2.0, 0.0, 0.0, 0.0, 12.0], 50: [2.0, 0.0, 0.0, 0.0, 0.0, 2.0, 2.0, 12.0], 51: [2.0, 2.0, 0.0, 0.0, 0.0, 2.0, 2.0, 0.0, 0.0, 0.0, 2.0, 2.0, 2.0, 12.0], 52: [0.0, 0.0, 0.0, 0.0, 0.0, 2.0, 2.0, 0.0, 2.0, 2.0, 0.0, 0.0, 0.0, 0.0, 0.0, 12.0], 53: [2.0, 0.0, 0.0, 0.0, 0.0, 2.0, 2.0, 12.0], 54: [2.0, 0.0, 0.0, 0.0, 0.0, 2.0, 2.0, 0.0, 0.0, 2.0, 0.0, 0.0, 12.0], 55: [2.0, 0.0, 0.0, 0.0, 0.0, 2.0, 2.0, 0.0, 2.0, 0.0, 2.0, 2.0, 0.0, 0.0, 0.0, 2.0, 0.0, 0.0, 0.0, 0.0, 12.0], 56: [0.0, 0.0, 0.0, 0.0, 0.0, 2.0, 0.0, 0.0, 2.0, 0.0, 0.0, 0.0, 2.0, 2.0, 2.0, 2.0, 0.0, 0.0, 0.0, 0.0, 12.0], 57: [2.0, 0.0, 0.0, 0.0, 2.0, 0.0, 0.0, 0.0, 2.0, 0.0, 2.0, 2.0, 0.0, 0.0, 0.0, 2.0, 0.0, 0.0, 0.0, 0.0, 12.0], 58: [2.0, 2.0, 2.0, 0.0, 0.0, 2.0, 0.0, 0.0, 0.0, 2.0, 12.0], 59: [-1.0, 0.0, 0.0, 0.0, 0.0, 2.0, 2.0, 2.0, 0.0, 0.0, 2.0, 0.0, 2.0, 0.0, 0.0, 0.0, 2.0, 2.0, 12.0], 60: [2.0, 2.0, 0.0, 0.0, 2.0, 0.0, 0.0, 0.0, 12.0], 61: [2.0, 0.0, 0.0, 0.0, 2.0, -1.0, 0.0, 0.0, 0.0, 0.0, 2.0, 0.0, 2.0, 0.0, 0.0, 2.0, -1.0, -0.5, 0.0, 0.0, 2.0, 0.0, 0.0, 0.0, 12.0], 62: [2.0, 2.0, 2.0, -0.5, 2.0, 2.0, 2.0, 2.0, 0.0, 0.0, 0.0, 0.0, 2.0, 0.0, 0.0, 2.0, 2.0, 0.0, 0.0, 0.0, 12.0], 63: [2.0, 2.0, 2.0, 12.0], 64: [-0.5, 2.0, 2.0, 0.0, 0.0, 2.0, 2.0, 2.0, 0.0, 0.0, 12.0], 65: [2.0, 0.0, 0.0, 0.0, 2.0, 2.0, 2.0, 2.0, 2.0, 2.0, 12.0], 66: [2.0, 2.0, 2.0, 2.0, 0.0, 0.0, 0.0, 0.0, 2.0, 0.0, 0.0, 0.0, 2.0, 2.0, 12.0], 67: [0.0, 0.0, 0.0, 0.0, 2.0, 0.0, 0.0, -1.0, 0.0, 0.0, 2.0, 0.0, 0.0, 0.0, 0.0, 2.0, 0.0, 0.0, 12.0], 68: [2.0, 0.0, 0.0, 0.0, 0.0, 2.0, -0.5, 2.0, 0.0, 0.0, 12.0], 69: [2.0, 2.0, 2.0, 12.0], 70: [2.0, 2.0, 0.0, 0.0, 0.0, 2.0, 12.0], 71: [0.0, 0.0, 0.0, 0.0, 0.0, 2.0, -1.0, 0.0, 0.0, 2.0, 2.0, 0.0, 2.0, 0.0, 0.0, 0.0, 12.0], 72: [2.0, 2.0, 0.0, 0.0, 2.0, 2.0, 12.0], 73: [2.0, 2.0, 2.0, 12.0], 74: [2.0, 2.0, 2.0, 2.0, 0.0, 2.0, 2.0, 2.0, 12.0], 75: [2.0, 2.0, 2.0, 2.0, 2.0, 0.0, 0.0, 0.0, 12.0], 76: [0.0, 0.0, 0.0, 2.0, 2.0, 2.0, 0.0, 0.0, 2.0, 0.0, 12.0], 77: [2.0, 2.0, 2.0, 2.0, 0.0, 2.0, 2.0, -1.0, -0.5, 2.0, 2.0, 2.0, 0.0, 0.0, 0.0, 12.0], 78: [2.0, 0.0, 0.0, 0.0, 0.0, 2.0, 0.0, 0.0, 0.0, 0.0, 2.0, 2.0, 0.0, 0.0, 0.0, 12.0], 79: [2.0, 2.0, 2.0, 2.0, 2.0, 12.0], 80: [0.0, 0.0, 0.0, 0.0, 0.0, 2.0, 0.0, 0.0, 0.0, 0.0, 2.0, 2.0, 0.0, 0.0, 0.0, 2.0, 2.0, 2.0, 0.0, 0.0, 12.0], 81: [2.0, 2.0, 0.0, 0.0, 0.0, 2.0, 0.0, 0.0, 0.0, 2.0, 0.0, 0.0, 0.0, 0.0, 0.0, 2.0, 2.0, 12.0], 82: [0.0, 0.0, 0.0, 0.0, 0.0, 2.0, 0.0, 0.0, 0.0, 0.0, 2.0, 0.0, 2.0, -0.5, 2.0, 12.0], 83: [2.0, 2.0, 2.0, 0.0, 0.0, 12.0], 84: [2.0, 2.0, 2.0, 0.0, 0.0, 0.0, 2.0, 0.0, 0.0, 0.0, 2.0, 0.0, 0.0, 0.0, 0.0, 2.0, 0.0, 0.0, 2.0, 0.0, 12.0], 85: [0.0, 0.0, 0.0, 2.0, 2.0, 2.0, 2.0, 2.0, 2.0, 12.0], 86: [2.0, 0.0, 0.0, 0.0, 2.0, 2.0, 0.0, 0.0, 0.0, 2.0, 0.0, 0.0, 0.0, 0.0, 0.0, 2.0, 0.0, 0.0, 0.0, 0.0, 12.0], 87: [2.0, 2.0, 2.0, 0.0, 2.0, 2.0, 0.0, -0.5, 0.0, 0.0, 0.0, 0.0, 2.0, 0.0, 0.0, 0.0, 12.0], 88: [2.0, 0.0, 0.0, 0.0, 0.0, 2.0, 2.0, 2.0, 0.0, 0.0, 0.0, 0.0, 12.0], 89: [0.0, 0.0, 0.0, 2.0, 0.0, 0.0, 0.0, 0.0, 2.0, 0.0, 2.0, -0.5, 2.0, 2.0, 0.0, 0.0, 2.0, 2.0, 0.0, 0.0, 2.0, 2.0, 0.0, 0.0, 2.0, 0.0, 0.0, 0.0, 0.0, 0.0, 12.0], 90: [0.0, 0.0, 0.0, 0.0, 0.0, 2.0, 0.0, 0.0, 0.0, 0.0, 2.0, 0.0, 2.0, 2.0, 0.0, 0.0, 2.0, 0.0, 0.0, -1.0, 2.0, 12.0], 91: [0.0, 0.0, 0.0, 2.0, 0.0, 0.0, 0.0, 0.0, 2.0, 0.0, 2.0, 0.0, 0.0, 0.0, 0.0, 2.0, 0.0, 0.0, 0.0, 0.0, 2.0, 0.0, 0.0, 0.0, 2.0, 2.0, 0.0, 0.0, 2.0, 2.0, 0.0, -0.5, 0.0, 2.0, 2.0, 2.0, 2.0, 2.0, 2.0, 2.0, 0.0, 0.0, 2.0, 0.0, 12.0], 92: [0.0, 0.0, 0.0, 0.0, 0.0, 2.0, 0.0, 0.0, 2.0, 0.0, 0.0, 0.0, 2.0, 2.0, 0.0, 2.0, 12.0], 93: [2.0, 2.0, 0.0, 0.0, 2.0, 2.0, 2.0, 0.0, 0.0, -0.5, 2.0, 2.0, 2.0, 2.0, 2.0, 12.0], 94: [2.0, 2.0, 2.0, 2.0, 2.0, 0.0, 0.0, 0.0, 0.0, 0.0, 12.0], 95: [2.0, 2.0, 2.0, 2.0, 0.0, 0.0, 12.0], 96: [2.0, 2.0, 0.0, 0.0, 2.0, 0.0, 0.0, 0.0, 2.0, 0.0, 2.0, 2.0, 2.0, 2.0, 0.0, 2.0, 0.0, -0.5, 2.0, 2.0, 2.0, 12.0], 97: [2.0, 2.0, 0.0, 0.0, 2.0, 0.0, 0.0, 0.0, 0.0, 0.0, 2.0, 0.0, -0.5, 2.0, 12.0], 98: [2.0, 0.0, 0.0, 0.0, 0.0, 2.0, 0.0, 0.0, 0.0, 2.0, 0.0, 0.0, 0.0, 0.0, 0.0, 2.0, 0.0, 0.0, 0.0, 0.0, 2.0, 2.0, 0.0, 0.0, 0.0, 2.0, 12.0], 99: [2.0, 2.0, 2.0, 12.0], 100: [2.0, 0.0, 0.0, 0.0, 2.0, 0.0, 0.0, 0.0, 2.0, 2.0, 2.0, 2.0, 12.0]}"
   ]
  },
  {
   "cell_type": "code",
   "execution_count": 163,
   "metadata": {
    "collapsed": true
   },
   "outputs": [],
   "source": [
    "successes1 = np.array([0, 0, 1, 1, 1, 1, 1, 1, 1, 1, 1, 1, 1, 1, 1, 1, 1, 1, 1, 1, 1, 1, 1, 1, 1, 1, 1, 1, 1, 1, 1, 1, 1, 1, 1, 1, 1, 1, 1, 1, 1, 1, 1, 1, 1, 1, 1, 1, 1, 1, 1, 1, 1, 1, 1, 1, 1, 1, 1, 1, 1, 1, 1, 1, 1, 1, 1, 1, 1, 1, 1, 1, 1, 1, 1, 1, 1, 1, 1, 1, 1, 1, 1, 1, 1, 1, 1, 1, 1, 1, 1, 1, 1, 1, 1, 1, 1, 1, 1, 1])"
   ]
  },
  {
   "cell_type": "code",
   "execution_count": 164,
   "metadata": {
    "collapsed": false
   },
   "outputs": [
    {
     "data": {
      "text/plain": [
       "<Container object of 100 artists>"
      ]
     },
     "execution_count": 164,
     "metadata": {},
     "output_type": "execute_result"
    },
    {
     "data": {
      "image/png": "[encoded data removed]",
      "text/plain": [
       "<matplotlib.figure.Figure at 0x112c98b90>"
      ]
     },
     "metadata": {},
     "output_type": "display_data"
    }
   ],
   "source": [
    "plt.bar(x,successes1)"
   ]
  },
  {
   "cell_type": "code",
   "execution_count": 168,
   "metadata": {
    "collapsed": false
   },
   "outputs": [
    {
     "name": "stdout",
     "output_type": "stream",
     "text": [
      "17.6\n"
     ]
    },
    {
     "data": {
      "text/plain": [
       "<Container object of 100 artists>"
      ]
     },
     "execution_count": 168,
     "metadata": {},
     "output_type": "execute_result"
    },
    {
     "data": {
      "image/png": "[encoded data removed]",
      "text/plain": [
       "<matplotlib.figure.Figure at 0x112da9f90>"
      ]
     },
     "metadata": {},
     "output_type": "display_data"
    }
   ],
   "source": [
    "print np.average(all_trial_moves1[80:])\n",
    "plt.bar(x,all_trial_moves1)"
   ]
  },
  {
   "cell_type": "code",
   "execution_count": 103,
   "metadata": {
    "collapsed": false
   },
   "outputs": [],
   "source": [
    "excesses = all_trial_moves - optimal_distances"
   ]
  },
  {
   "cell_type": "code",
   "execution_count": 104,
   "metadata": {
    "collapsed": false
   },
   "outputs": [
    {
     "data": {
      "text/plain": [
       "<Container object of 100 artists>"
      ]
     },
     "execution_count": 104,
     "metadata": {},
     "output_type": "execute_result"
    },
    {
     "data": {
      "image/png": "[encoded data removed]",
      "text/plain": [
       "<matplotlib.figure.Figure at 0x1115708d0>"
      ]
     },
     "metadata": {},
     "output_type": "display_data"
    }
   ],
   "source": [
    "plt.bar(x, excesses)"
   ]
  },
  {
   "cell_type": "code",
   "execution_count": 122,
   "metadata": {
    "collapsed": false
   },
   "outputs": [
    {
     "data": {
      "text/plain": [
       "array([  0. ,   0. ,   0. ,   0. ,   2. ,   2. ,   0. ,   0. ,   2. ,\n",
       "         0. ,  -0.5,   2. ,   0. ,   0. ,   0. ,  12. ])"
      ]
     },
     "execution_count": 122,
     "metadata": {},
     "output_type": "execute_result"
    }
   ],
   "source": [
    "np.array(all_rewards[30])"
   ]
  },
  {
   "cell_type": "code",
   "execution_count": 113,
   "metadata": {
    "collapsed": false
   },
   "outputs": [
    {
     "data": {
      "text/plain": [
       "array([  2.,   0.,   0.,   0.,   0.,   2.,   2.,  12.])"
      ]
     },
     "execution_count": 113,
     "metadata": {},
     "output_type": "execute_result"
    }
   ],
   "source": [
    "np.array(all_rewards[50])"
   ]
  },
  {
   "cell_type": "code",
   "execution_count": 141,
   "metadata": {
    "collapsed": false
   },
   "outputs": [],
   "source": [
    "penalties_per_iteration = []\n",
    "for i in range(len(all_rewards)):\n",
    "    rewards = np.array(all_rewards[i+1])\n",
    "    penalties = len(rewards[rewards<0])\n",
    "    penalties_per_iteration.append(penalties)\n",
    "plt.bar(x,penalties_per_iteration)\n",
    "plt.xlabel('Iteration')\n",
    "plt.ylabel('Moves with penalty')"
   ]
  },
  {
   "cell_type": "code",
   "execution_count": 144,
   "metadata": {
    "collapsed": false
   },
   "outputs": [
    {
     "data": {
      "text/plain": [
       "<matplotlib.text.Text at 0x112477690>"
      ]
     },
     "execution_count": 144,
     "metadata": {},
     "output_type": "execute_result"
    },
    {
     "data": {
      "image/png": "[encoded data removed]",
      "text/plain": [
       "<matplotlib.figure.Figure at 0x11240d550>"
      ]
     },
     "metadata": {},
     "output_type": "display_data"
    }
   ],
   "source": []
  },
  {
   "cell_type": "code",
   "execution_count": 155,
   "metadata": {
    "collapsed": false
   },
   "outputs": [],
   "source": [
    "iter = np.array([1.,2.,3.,4.,100.])"
   ]
  },
  {
   "cell_type": "code",
   "execution_count": 154,
   "metadata": {
    "collapsed": false
   },
   "outputs": [
    {
     "data": {
      "text/plain": [
       "array([ 0.91023923,  0.72134752,  0.62133493,  0.55811063,  0.25308487])"
      ]
     },
     "execution_count": 154,
     "metadata": {},
     "output_type": "execute_result"
    }
   ],
   "source": [
    "1/np.log(iter + 2)"
   ]
  },
  {
   "cell_type": "code",
   "execution_count": 157,
   "metadata": {
    "collapsed": false
   },
   "outputs": [
    {
     "data": {
      "text/plain": [
       "'\\n       self.alpha = 0.1    \\n       self.gamma = 0.1 \\nself.epsilon = 1./(math.log(float(self.iteration) + 2.))\\n'"
      ]
     },
     "execution_count": 157,
     "metadata": {},
     "output_type": "execute_result"
    }
   ],
   "source": [
    "'''\n",
    "       self.alpha = 0.1    \n",
    "       self.gamma = 0.1 \n",
    "self.epsilon = 1./(math.log(float(self.iteration) + 2.))\n",
    "'''"
   ]
  },
  {
   "cell_type": "code",
   "execution_count": 156,
   "metadata": {
    "collapsed": true
   },
   "outputs": [],
   "source": [
    "successes = [0, 0, 1, 1, 0, 1, 1, 1, 1, 1, 0, 1, 1, 1, 1, 1, 1, 1, 1, 1, 1, 1, 1, 1, 1, 1, 1, 1, 1, 1, 1, 0, 1, 1, 0, 1, 1, 1, 1, 0, 1, 1, 1, 1, 1, 1, 1, 1, 1, 1, 1, 0, 1, 0, 1, 1, 1, 1, 1, 1, 1, 1, 1, 1, 1, 1, 1, 1, 1, 1, 1, 1, 1, 1, 1, 1, 1, 1, 1, 1, 1, 1, 1, 1, 1, 1, 1, 1, 1, 1, 1, 1, 1, 1, 1, 1, 1, 1, 1, 1]"
   ]
  },
  {
   "cell_type": "code",
   "execution_count": 159,
   "metadata": {
    "collapsed": true
   },
   "outputs": [],
   "source": [
    "all_trial_moves2 = [26, 36, 21, 8, 16, 18, 4, 18, 26, 10, 21, 17, 15, 9, 19, 22, 24, 7, 15, 7, 5, 13, 12, 10, 11, 14, 17, 8, 12, 25, 16, 31, 11, 21, 5, 31, 13, 7, 25, 26, 6, 16, 24, 19, 15, 16, 22, 6, 25, 14, 16, 31, 21, 26, 28, 15, 18, 14, 6, 31, 22, 9, 13, 13, 8, 17, 16, 16, 17, 10, 9, 25, 5, 7, 11, 13, 7, 17, 11, 20, 4, 17, 13, 25, 22, 10, 26, 24, 30, 25, 6, 24, 20, 17, 16, 22, 16, 7, 13, 19]"
   ]
  },
  {
   "cell_type": "code",
   "execution_count": 169,
   "metadata": {
    "collapsed": false
   },
   "outputs": [
    {
     "name": "stdout",
     "output_type": "stream",
     "text": [
      "17.8\n"
     ]
    },
    {
     "data": {
      "text/plain": [
       "<Container object of 100 artists>"
      ]
     },
     "execution_count": 169,
     "metadata": {},
     "output_type": "execute_result"
    },
    {
     "data": {
      "image/png": "[encoded data removed]",
      "text/plain": [
       "<matplotlib.figure.Figure at 0x114cab110>"
      ]
     },
     "metadata": {},
     "output_type": "display_data"
    }
   ],
   "source": [
    "print np.average(all_trial_moves2[80:])\n",
    "plt.bar(x,all_trial_moves2)"
   ]
  },
  {
   "cell_type": "code",
   "execution_count": 175,
   "metadata": {
    "collapsed": false
   },
   "outputs": [
    {
     "data": {
      "text/plain": [
       "'\\n        self.epsilon = 1./(self.iteration + 1)\\n        self.gamma = 0.1\\n        self.alpha = self.epsilon\\n'"
      ]
     },
     "execution_count": 175,
     "metadata": {},
     "output_type": "execute_result"
    }
   ],
   "source": [
    "'''\n",
    "        self.epsilon = 1./(self.iteration + 1)\n",
    "        self.gamma = 0.1\n",
    "        self.alpha = self.epsilon\n",
    "'''"
   ]
  },
  {
   "cell_type": "code",
   "execution_count": 172,
   "metadata": {
    "collapsed": true
   },
   "outputs": [],
   "source": [
    "all_trial_moves3 = np.array([26, 23, 31, 17, 9, 16, 13, 17, 21, 2, 16, 6, 6, 7, 9, 21, 10, 8, 19, 11, 41, 22, 29, 11, 5, 14, 5, 8, 9, 2, 22, 8, 16, 10, 13, 18, 8, 26, 6, 15, 11, 7, 8, 11, 11, 8, 17, 11, 14, 11, 17, 16, 10, 14, 7, 11, 15, 13, 15, 9, 14, 13, 18, 9, 9, 17, 8, 25, 4, 17, 4, 7, 7, 8, 16, 11, 7, 10, 7, 17, 16, 17, 17, 14, 7, 6, 5, 26, 10, 41, 10, 4, 8, 5, 10, 13, 13, 7, 10, 16])"
   ]
  },
  {
   "cell_type": "code",
   "execution_count": 173,
   "metadata": {
    "collapsed": false
   },
   "outputs": [
    {
     "data": {
      "text/plain": [
       "12.75"
      ]
     },
     "execution_count": 173,
     "metadata": {},
     "output_type": "execute_result"
    }
   ],
   "source": [
    "np.average(all_trial_moves3[80:])"
   ]
  },
  {
   "cell_type": "code",
   "execution_count": 174,
   "metadata": {
    "collapsed": false
   },
   "outputs": [
    {
     "data": {
      "text/plain": [
       "<Container object of 100 artists>"
      ]
     },
     "execution_count": 174,
     "metadata": {},
     "output_type": "execute_result"
    },
    {
     "data": {
      "image/png": "[encoded data removed]",
      "text/plain": [
       "<matplotlib.figure.Figure at 0x114e2f350>"
      ]
     },
     "metadata": {},
     "output_type": "display_data"
    }
   ],
   "source": [
    "plt.bar(x,all_trial_moves3)"
   ]
  },
  {
   "cell_type": "code",
   "execution_count": 176,
   "metadata": {
    "collapsed": true
   },
   "outputs": [],
   "source": [
    "optimal_distances = [5, 8, 6, 8, 8, 4, 6, 8, 7, 6, 7, 5, 4, 5, 4, 4, 5, 4, 5, 9, 8, 11, 6, 5, 8, 6, 4, 5, 8, 8, 7, 4, 6, 5, 5, 8, 5, 6, 6, 5, 5, 4, 6, 8, 4, 4, 6, 4, 6, 5, 12, 6, 6, 5, 4, 6, 9, 5, 6, 4, 9, 4, 8, 5, 5, 6, 5, 7, 4, 8, 4, 5, 4, 5, 8, 4, 4, 6, 4, 9, 5, 4, 8, 8, 6, 4, 4, 9, 6, 8, 4, 4, 5, 5, 4, 6, 4, 4, 7, 6]"
   ]
  },
  {
   "cell_type": "code",
   "execution_count": 177,
   "metadata": {
    "collapsed": true
   },
   "outputs": [],
   "source": [
    "all_rewards = {1: [-0.5, 2.0, -1.0, -0.5, -1.0, -1.0, 2.0, 0.0, -0.5, 0.0, -0.5, 2.0, -0.5, -0.5, 2.0, -1.0, -0.5, -0.5, 0.0, -0.5, -1.0, -0.5, -1.0, -1.0, -1.0, 0.0], 2: [-0.5, -0.5, 2.0, 0.0, 2.0, 0.0, 0.0, -0.5, -1.0, 0.0, 0.0, 0.0, -0.5, -0.5, 2.0, 2.0, -1.0, 0.0, 0.0, -1.0, 2.0, 2.0, 12.0], 3: [-0.5, -1.0, -1.0, -1.0, 2.0, -0.5, 2.0, 0.0, 2.0, -0.5, -1.0, -0.5, 2.0, 2.0, 0.0, 0.0, -0.5, -1.0, 0.0, 0.0, 2.0, 0.0, 0.0, 0.0, 0.0, 2.0, 2.0, 2.0, -0.5, 2.0, 2.0], 4: [2.0, -1.0, 0.0, -0.5, 2.0, 2.0, 2.0, 2.0, 0.0, 2.0, 0.0, -0.5, 0.0, 0.0, 0.0, 2.0, 12.0], 5: [-0.5, 2.0, 2.0, 2.0, 2.0, 2.0, 2.0, 0.0, 12.0], 6: [0.0, 2.0, -1.0, 2.0, -1.0, -0.5, 2.0, 2.0, 2.0, 0.0, 0.0, 0.0, 2.0, 0.0, 0.0, 12.0], 7: [2.0, 2.0, 0.0, 0.0, 0.0, 2.0, -0.5, 2.0, 2.0, 2.0, 2.0, 2.0, 12.0], 8: [2.0, 0.0, 0.0, 0.0, 0.0, 2.0, 2.0, 0.0, -1.0, 0.0, 2.0, 2.0, 2.0, 2.0, 0.0, 0.0, 12.0], 9: [-1.0, 0.0, 0.0, 2.0, 0.0, -1.0, 2.0, 0.0, 0.0, 2.0, 2.0, 2.0, -1.0, 0.0, -1.0, 0.0, 2.0, 0.0, 0.0, 0.0, 12.0], 10: [2.0, 12.0], 11: [2.0, 2.0, 2.0, 2.0, 0.0, 0.0, 0.0, -0.5, 2.0, 0.0, -1.0, 0.0, 2.0, 2.0, 0.0, 12.0], 12: [2.0, 2.0, -1.0, 2.0, 2.0, 12.0], 13: [2.0, 0.0, 0.0, 2.0, 2.0, 12.0], 14: [-0.5, 2.0, 2.0, 2.0, 0.0, 0.0, 12.0], 15: [0.0, 0.0, 0.0, 0.0, 0.0, 2.0, 2.0, 2.0, 12.0], 16: [2.0, 2.0, -0.5, 0.0, 2.0, 2.0, 0.0, 0.0, 0.0, 0.0, 2.0, 0.0, 0.0, 0.0, 0.0, 2.0, 2.0, 2.0, 0.0, 0.0, 2.0], 17: [2.0, 2.0, 0.0, 0.0, 0.0, 2.0, 2.0, 0.0, 0.0, 12.0], 18: [0.0, 0.0, 0.0, 2.0, 0.0, 2.0, 2.0, 12.0], 19: [0.0, 0.0, 0.0, 2.0, -1.0, 0.0, 2.0, 2.0, 2.0, 0.0, 0.0, -0.5, 2.0, 2.0, 2.0, 0.0, 0.0, 0.0, 12.0], 20: [-0.5, 2.0, 0.0, 2.0, 2.0, 2.0, 0.0, 0.0, 0.0, 2.0, 12.0], 21: [2.0, 2.0, 0.0, 2.0, 2.0, -0.5, 0.0, 0.0, 2.0, 0.0, 0.0, 0.0, 2.0, 2.0, 0.0, 0.0, 2.0, 2.0, 2.0, 0.0, 0.0, 2.0, 2.0, 2.0, 2.0, -0.5, 0.0, 0.0, 0.0, 0.0, 2.0, 2.0, 0.0, -1.0, 0.0, 2.0, 2.0, 2.0, 2.0, 2.0, 12.0], 22: [2.0, 0.0, 0.0, 2.0, 0.0, 2.0, 0.0, 0.0, 0.0, 2.0, 0.0, 0.0, 0.0, 0.0, 0.0, 2.0, 2.0, 2.0, 2.0, 2.0, 2.0, 12.0], 23: [0.0, -0.5, 2.0, 0.0, 0.0, 2.0, 2.0, -0.5, 0.0, 0.0, 2.0, 0.0, 2.0, 0.0, 0.0, 2.0, 0.0, 0.0, 2.0, 2.0, 0.0, 0.0, 0.0, 0.0, 0.0, 2.0, 2.0, 2.0, 12.0], 24: [2.0, 2.0, 2.0, 0.0, 0.0, 0.0, 2.0, 0.0, 0.0, 0.0, 12.0], 25: [2.0, 2.0, 0.0, 2.0, 12.0], 26: [2.0, 0.0, 0.0, 0.0, 2.0, 2.0, 0.0, 0.0, 2.0, 0.0, 0.0, 0.0, 2.0, 12.0], 27: [2.0, 2.0, 2.0, 0.0, 12.0], 28: [2.0, 2.0, 0.0, 0.0, 0.0, 2.0, 2.0, 12.0], 29: [2.0, 2.0, 0.0, 2.0, 2.0, 2.0, 0.0, 0.0, 12.0], 30: [-0.5, 12.0], 31: [2.0, 2.0, 0.0, 0.0, 0.0, 2.0, 0.0, 0.0, 0.0, -1.0, 2.0, 0.0, 0.0, 0.0, 0.0, 2.0, 2.0, 2.0, 2.0, 0.0, 0.0, 12.0], 32: [2.0, 0.0, 0.0, 0.0, 0.0, 2.0, 2.0, 12.0], 33: [2.0, 2.0, 2.0, 2.0, 0.0, 0.0, -0.5, 2.0, 2.0, -1.0, 2.0, 2.0, 0.0, 0.0, 0.0, 12.0], 34: [0.0, 0.0, 0.0, 2.0, 2.0, 2.0, 2.0, 0.0, 0.0, 12.0], 35: [2.0, -1.0, 2.0, 0.0, 0.0, 0.0, 2.0, 0.0, 0.0, 0.0, 2.0, 0.0, 12.0], 36: [-0.5, 2.0, -0.5, 0.0, 0.0, 0.0, 2.0, 2.0, 2.0, 2.0, 0.0, 0.0, 0.0, 0.0, 0.0, 2.0, 2.0, 12.0], 37: [2.0, 2.0, 0.0, 2.0, 0.0, 0.0, 2.0, 12.0], 38: [0.0, 0.0, 0.0, 0.0, 0.0, 2.0, 0.0, 0.0, 0.0, 0.0, 2.0, 0.0, 0.0, 0.0, 0.0, 2.0, 0.0, -1.0, 0.0, 0.0, 2.0, 0.0, 0.0, 0.0, 2.0, 12.0], 39: [2.0, 2.0, 2.0, 2.0, 2.0, 12.0], 40: [0.0, 2.0, 2.0, 2.0, 0.0, 2.0, 0.0, -1.0, 0.0, 2.0, 2.0, 0.0, 2.0, 2.0, 12.0], 41: [2.0, 2.0, 0.0, 2.0, 0.0, 0.0, 0.0, 0.0, 2.0, 0.0, 12.0], 42: [2.0, 2.0, 2.0, 0.0, 0.0, 0.0, 12.0], 43: [2.0, 2.0, 2.0, 2.0, 0.0, 0.0, 2.0, 12.0], 44: [2.0, 2.0, 2.0, 0.0, 2.0, 2.0, 2.0, 0.0, 0.0, 2.0, 12.0], 45: [2.0, 2.0, 2.0, 0.0, 0.0, 0.0, 2.0, 0.0, 0.0, 2.0, 12.0], 46: [2.0, 0.0, 0.0, 0.0, 0.0, 2.0, 2.0, 12.0], 47: [2.0, 2.0, 0.0, 2.0, 2.0, -0.5, 0.0, 0.0, 0.0, 0.0, 2.0, 0.0, 0.0, 0.0, 0.0, 2.0, 12.0], 48: [2.0, 2.0, 0.0, 2.0, 0.0, 0.0, 2.0, 0.0, 0.0, 2.0, 12.0], 49: [2.0, 2.0, 2.0, 2.0, 2.0, 0.0, 0.0, 0.0, 0.0, 0.0, 2.0, 0.0, 2.0, 12.0], 50: [2.0, 0.0, 0.0, 2.0, 2.0, 2.0, 0.0, 0.0, 0.0, 0.0, 12.0], 51: [2.0, 2.0, 2.0, 0.0, 0.0, 2.0, 2.0, 0.0, 0.0, 0.0, 2.0, -0.5, 0.0, 0.0, 0.0, 0.0, 12.0], 52: [2.0, 2.0, 0.0, 0.0, 2.0, 2.0, 0.0, 0.0, 0.0, 0.0, 2.0, 0.0, 0.0, 0.0, 0.0, 12.0], 53: [2.0, 2.0, 2.0, 2.0, 2.0, 2.0, 2.0, 0.0, 0.0, 12.0], 54: [2.0, 2.0, 2.0, 2.0, 0.0, 0.0, 0.0, 0.0, 2.0, 0.0, 0.0, 0.0, 2.0, 12.0], 55: [2.0, 0.0, 0.0, 2.0, 0.0, 2.0, 12.0], 56: [2.0, 0.0, 0.0, 0.0, 0.0, 2.0, 0.0, 2.0, 2.0, 2.0, 12.0], 57: [2.0, 0.0, 0.0, 2.0, 2.0, 0.0, 0.0, 0.0, 2.0, 2.0, 2.0, 0.0, 2.0, 2.0, 12.0], 58: [2.0, 0.0, 0.0, 0.0, 2.0, 2.0, 0.0, 0.0, 2.0, 0.0, 0.0, -1.0, 12.0], 59: [2.0, 2.0, 0.0, 0.0, 0.0, 2.0, 2.0, 0.0, -0.5, 2.0, 2.0, 0.0, 2.0, 2.0, 12.0], 60: [2.0, 0.0, 0.0, 0.0, 2.0, 2.0, 0.0, 0.0, 12.0], 61: [2.0, 2.0, 0.0, 0.0, 2.0, 2.0, 2.0, 0.0, 2.0, 2.0, 0.0, 0.0, 2.0, 12.0], 62: [2.0, 0.0, 0.0, 0.0, 0.0, 2.0, -1.0, 2.0, 0.0, 0.0, 0.0, 0.0, 12.0], 63: [2.0, 0.0, 0.0, 0.0, -0.5, 2.0, 0.0, 0.0, 0.0, 0.0, 2.0, 2.0, 2.0, 0.0, 0.0, 0.0, 2.0, 12.0], 64: [0.0, 0.0, 0.0, 0.0, 2.0, 2.0, 2.0, 2.0, 12.0], 65: [2.0, 2.0, 0.0, 2.0, 2.0, 0.0, 0.0, 0.0, 12.0], 66: [0.0, 0.0, 0.0, 0.0, 0.0, 2.0, 0.0, 0.0, 0.0, 0.0, 2.0, 2.0, 2.0, 0.0, 0.0, 2.0, 12.0], 67: [2.0, 0.0, 0.0, 2.0, 0.0, 2.0, 2.0, 12.0], 68: [2.0, 0.0, 0.0, 0.0, 0.0, 2.0, 0.0, 0.0, 0.0, 2.0, 0.0, 0.0, 0.0, 0.0, 0.0, 2.0, 0.0, 0.0, 0.0, 0.0, 2.0, 2.0, 0.0, 0.0, 12.0], 69: [2.0, 2.0, 2.0, 12.0], 70: [2.0, 2.0, 2.0, 0.0, 0.0, 2.0, 2.0, 0.0, 0.0, 0.0, 2.0, 0.0, 0.0, 0.0, 0.0, 2.0, 12.0], 71: [2.0, 2.0, 2.0, 12.0], 72: [2.0, 2.0, 2.0, 0.0, 0.0, 2.0, 12.0], 73: [2.0, 2.0, 2.0, 2.0, 0.0, 2.0, 12.0], 74: [2.0, 2.0, 0.0, 0.0, 2.0, 0.0, 2.0, 12.0], 75: [2.0, 0.0, 0.0, 2.0, 2.0, 0.0, 2.0, 2.0, 0.0, 2.0, -1.0, 0.0, 2.0, 0.0, 0.0, 12.0], 76: [2.0, 0.0, 0.0, 2.0, 2.0, 0.0, 0.0, 0.0, 0.0, 0.0, 12.0], 77: [2.0, 2.0, 2.0, 0.0, 0.0, 0.0, 12.0], 78: [2.0, 2.0, 2.0, 0.0, 0.0, 2.0, 2.0, 2.0, 2.0, 12.0], 79: [2.0, 2.0, 2.0, 0.0, 0.0, 0.0, 12.0], 80: [-1.0, -0.5, 2.0, 2.0, 2.0, 2.0, 0.0, 0.0, 2.0, 2.0, 2.0, 0.0, 2.0, 0.0, 0.0, 2.0, 12.0], 81: [0.0, 0.0, 0.0, 0.0, 2.0, 0.0, 0.0, 0.0, 2.0, 2.0, 0.0, 0.0, 2.0, 0.0, 0.0, 12.0], 82: [2.0, 0.0, 0.0, 0.0, 0.0, 2.0, 0.0, 0.0, 0.0, 2.0, -1.0, -0.5, 0.0, 0.0, 0.0, 2.0, 12.0], 83: [0.0, 0.0, 0.0, 0.0, 2.0, 0.0, 0.0, 0.0, 0.0, 0.0, 2.0, 2.0, 2.0, 2.0, 2.0, 2.0, 12.0], 84: [2.0, 2.0, 2.0, 0.0, 2.0, 2.0, 0.0, 0.0, 2.0, 0.0, 0.0, 0.0, 2.0, 12.0], 85: [2.0, 2.0, 2.0, 2.0, 2.0, 0.0, 12.0], 86: [2.0, 2.0, 2.0, 0.0, 0.0, 12.0], 87: [2.0, 2.0, 2.0, 0.0, 12.0], 88: [2.0, 0.0, 0.0, 0.0, 0.0, 2.0, 0.0, 2.0, 0.0, 2.0, 0.0, 0.0, 0.0, 0.0, 0.0, 2.0, 2.0, 0.0, 0.0, 0.0, 2.0, 0.0, 0.0, 0.0, 2.0, 12.0], 89: [2.0, 0.0, 0.0, 0.0, 2.0, 2.0, 2.0, 0.0, 2.0, 12.0], 90: [2.0, 2.0, 0.0, 0.0, 2.0, 2.0, 0.0, 0.0, 0.0, 2.0, 2.0, 0.0, 2.0, -0.5, 2.0, 0.0, 0.0, 0.0, 2.0, 2.0, 2.0, 0.0, 0.0, 0.0, 0.0, 2.0, 2.0, 2.0, -0.5, 0.0, 2.0, 2.0, 0.0, 0.0, 0.0, 2.0, 2.0, 2.0, 2.0, 2.0, 0.0], 91: [2.0, 2.0, 2.0, 0.0, 0.0, 2.0, 0.0, 0.0, 2.0, 12.0], 92: [2.0, 2.0, 2.0, 12.0], 93: [2.0, 0.0, 0.0, 0.0, 2.0, 2.0, 2.0, 12.0], 94: [2.0, 2.0, 2.0, 2.0, 12.0], 95: [2.0, 0.0, 0.0, 0.0, 0.0, 2.0, 2.0, 0.0, 0.0, 12.0], 96: [2.0, 2.0, 2.0, 0.0, 0.0, 0.0, 2.0, 0.0, 0.0, 0.0, 2.0, 0.0, 12.0], 97: [0.0, 0.0, 0.0, 0.0, 2.0, 0.0, 0.0, 0.0, 2.0, 2.0, 0.0, 0.0, 12.0], 98: [2.0, 2.0, 0.0, 0.0, 0.0, 2.0, 12.0], 99: [2.0, 2.0, 0.0, 2.0, 0.0, 0.0, 0.0, 0.0, 2.0, 12.0], 100: [2.0, 2.0, 0.0, 0.0, 0.0, 2.0, 2.0, 0.0, 0.0, 0.0, 2.0, 0.0, 0.0, 0.0, 0.0, 12.0]}"
   ]
  },
  {
   "cell_type": "code",
   "execution_count": 178,
   "metadata": {
    "collapsed": true
   },
   "outputs": [],
   "source": [
    "q={('forward', 'red', None, None, 'forward'): {'forward': -0.12122967729245429, 'right': -0.0061090534979423875, None: 0, 'left': 0}, ('forward', 'red', None, None, None): {'forward': -0.9238050612005628, 'right': -0.5075448294538956, None: 0.0, 'left': -1.0493783760258837}, ('forward', 'red', None, 'right', None): {'forward': -0.01687844827586207, 'right': 0, None: 0, 'left': 0}, ('forward', 'red', None, 'forward', None): {'forward': -0.05742458398063625, 'right': -0.011684931225124156, None: 0.0, 'left': 0}, ('right', 'red', 'forward', None, None): {'forward': -0.030303030303030304, 'right': 0.05909090909090909, None: 0, 'left': 0}, ('left', 'red', None, None, 'right'): {'forward': -0.35225694444444444, 'right': 0, None: 0, 'left': 0}, ('right', 'red', 'left', None, None): {'forward': -0.016129032258064516, 'right': 0.031439443823461456, None: 0, 'left': 0}, ('forward', 'green', 'left', None, None): {'forward': 0.19128046696599793, 'right': 0, None: 0, 'left': 0}, ('forward', 'green', None, 'left', None): {'forward': 0.1702186774351043, 'right': 0, None: 0, 'left': 0}, ('right', 'green', None, 'forward', None): {'forward': -0.036941693477005544, 'right': 0.02891774795203654, None: 0, 'left': 0}, ('right', 'green', 'left', None, None): {'forward': -0.025735918472474084, 'right': 0, None: 0, 'left': 0}, ('left', 'red', None, 'right', None): {'forward': -0.014777585185185186, 'right': 0, None: 0, 'left': 0}, ('left', 'red', 'forward', None, None): {'forward': -0.0125, 'right': -0.003078946696621244, None: 0.0, 'left': 0}, ('right', 'green', None, None, 'right'): {'forward': -0.020183333333333334, 'right': 0, None: 0, 'left': 0}, ('right', 'red', None, None, 'forward'): {'forward': -0.03158571428571428, 'right': 0, None: 0, 'left': 0}, ('left', 'green', 'left', None, None): {'forward': 0, 'right': 0, None: 0.0, 'left': 0}, ('forward', 'red', 'forward', None, None): {'forward': -0.16666666666666666, 'right': -0.04945825445816186, None: 0.0, 'left': -0.08333333333333333}, ('forward', 'green', None, None, None): {'forward': 4.068254907633045, 'right': -0.4981481481481483, None: 0.0, 'left': -0.018164648910411623}, ('forward', 'green', None, None, 'forward'): {'forward': 0.11144185526032349, 'right': 0, None: 0, 'left': 0}, ('left', 'red', None, None, None): {'forward': -1.083188888888889, 'right': -0.4919176758083529, None: 0.0, 'left': -0.8311111111111111}, ('forward', 'green', None, 'forward', None): {'forward': 0.2312748840211674, 'right': 0, None: 0, 'left': 0}, ('forward', 'green', None, None, 'left'): {'forward': 0.21862198609863975, 'right': 0, None: 0, 'left': 0}, ('right', 'green', None, None, 'forward'): {'forward': -0.12110000000000001, 'right': 0, None: 0, 'left': 0}, ('left', 'red', 'left', None, None): {'forward': -0.3333333333333333, 'right': -0.10166666666666666, None: 0, 'left': 0}, ('forward', 'green', 'right', None, None): {'forward': 0.04462811853856865, 'right': 0, None: 0, 'left': 0}, ('forward', 'red', 'left', None, None): {'forward': -0.012195121951219513, 'right': -0.006697460580254089, None: 0, 'left': 0}, ('left', 'green', None, None, None): {'forward': -0.5677083333333334, 'right': -0.5, None: 0.0, 'left': 3.302483703038789}, ('right', 'red', None, None, None): {'forward': -1.055, 'right': 2.677301782863797, None: 0, 'left': -0.16666666666666666}, ('right', 'green', None, None, None): {'forward': -0.5313606235121494, 'right': 2.9607975595886367, None: 0.0, 'left': -0.5800000000000001}, ('right', 'green', None, None, 'left'): {'forward': -0.043250000000000004, 'right': 0, None: 0, 'left': 0}, ('forward', 'green', 'forward', None, None): {'forward': 0.6190894915646658, 'right': 0, None: 0, 'left': 0}, ('forward', 'green', None, 'right', None): {'forward': 0.4094214226720133, 'right': 0, None: 0, 'left': 0}, ('forward', 'green', None, None, 'right'): {'forward': 0.04055966536768302, 'right': 0, None: 0, 'left': 0}, ('forward', 'red', None, 'left', None): {'forward': -0.03189583815856396, 'right': 0, None: 0, 'left': 0}, ('left', 'green', None, 'left', None): {'forward': -0.006582005623556182, 'right': 0, None: 0, 'left': 0}, ('left', 'green', None, 'forward', None): {'forward': -0.08650000000000001, 'right': 0, None: 0, 'left': 0}}"
   ]
  },
  {
   "cell_type": "code",
   "execution_count": 179,
   "metadata": {
    "collapsed": false
   },
   "outputs": [
    {
     "data": {
      "text/plain": [
       "'\\noptimal path, using learning/knowledge provided by planner\\naction = self.next_waypoint\\n'"
      ]
     },
     "execution_count": 179,
     "metadata": {},
     "output_type": "execute_result"
    }
   ],
   "source": [
    "'''\n",
    "optimal path, using learning/knowledge provided by planner\n",
    "action = self.next_waypoint\n",
    "'''"
   ]
  },
  {
   "cell_type": "code",
   "execution_count": 218,
   "metadata": {
    "collapsed": true
   },
   "outputs": [],
   "source": [
    "all_trial_moves4 = np.array([13, 6, 13, 6, 5, 13, 8, 10, 9, 9, 7, 16, 16, 9, 8, 21, 8, 13, 21, 11, 6, 9, 17, 17, 11, 14, 9, 6, 11, 11, 8, 4, 19, 14, 4, 10, 7, 16, 26, 21, 11, 22, 11, 18, 16, 11, 15, 6, 13, 5, 9, 21, 26, 12, 4, 9, 11, 19, 4, 16, 6, 13, 7, 17, 17, 9, 17, 12, 11, 13, 11, 7, 6, 8, 4, 9, 22, 13, 9, 15, 6, 14, 18, 8, 6, 16, 6, 14, 16, 8, 23, 12, 19, 16, 13, 22, 11, 11, 10, 8]"
   ]
  },
  {
   "cell_type": "code",
   "execution_count": 187,
   "metadata": {
    "collapsed": true
   },
   "outputs": [],
   "source": [
    "optimal_distances4 = [5, 4, 5, 6, 5, 7, 4, 7, 4, 4, 4, 8, 9, 5, 5, 9, 6, 5, 7, 8, 6, 6, 6, 7, 5, 6, 4, 5, 7, 5, 4, 4, 8, 6, 4, 5, 4, 4, 9, 6, 6, 8, 6, 9, 6, 5, 5, 4, 5, 4, 4, 8, 11, 7, 4, 4, 4, 7, 4, 4, 4, 6, 5, 5, 5, 5, 5, 5, 4, 9, 6, 4, 5, 5, 4, 5, 8, 7, 4, 7, 4, 7, 4, 4, 5, 6, 5, 8, 6, 5, 9, 5, 6, 4, 6, 7, 9, 6, 5, 7]"
   ]
  },
  {
   "cell_type": "code",
   "execution_count": 188,
   "metadata": {
    "collapsed": true
   },
   "outputs": [],
   "source": [
    "all_rewards4 = {1: [-1.0, -1.0, -1.0, 2.0, 2.0, -1.0, -1.0, -1.0, -1.0, -1.0, 2.0, 2.0, 12.0], 2: [2.0, -1.0, -1.0, 2.0, 2.0, 12.0], 3: [2.0, 2.0, -1.0, 2.0, -1.0, -1.0, -1.0, -1.0, 2.0, -1.0, -1.0, -1.0, 12.0], 4: [2.0, 2.0, 2.0, 2.0, 2.0, 12.0], 5: [2.0, 2.0, 2.0, 2.0, 12.0], 6: [2.0, 2.0, -1.0, -1.0, -1.0, 2.0, 2.0, -1.0, 2.0, 2.0, -1.0, -1.0, 12.0], 7: [-1.0, -1.0, -1.0, -1.0, 2.0, 2.0, 2.0, 12.0], 8: [2.0, 2.0, 2.0, 2.0, 2.0, 2.0, -1.0, -1.0, -1.0, 12.0], 9: [-1.0, -1.0, -1.0, -1.0, -1.0, 2.0, 2.0, 2.0, 12.0], 10: [-1.0, -1.0, -1.0, -1.0, 2.0, -1.0, 2.0, 2.0, 12.0], 11: [2.0, 2.0, -1.0, 2.0, 2.0, 2.0, 12.0], 12: [2.0, 2.0, 2.0, -1.0, -1.0, 2.0, -1.0, -1.0, 2.0, 2.0, -1.0, -1.0, 2.0, -1.0, -1.0, 12.0], 13: [2.0, 2.0, 2.0, 2.0, -1.0, -1.0, -1.0, -1.0, 2.0, -1.0, 2.0, 2.0, 2.0, -1.0, -1.0, 12.0], 14: [2.0, 2.0, -1.0, -1.0, 2.0, 2.0, 2.0, 2.0, 12.0], 15: [2.0, 2.0, -1.0, 2.0, 2.0, 2.0, 2.0, 12.0], 16: [-1.0, -1.0, -1.0, -1.0, 2.0, -1.0, -1.0, -1.0, -1.0, -1.0, 2.0, 2.0, -1.0, -1.0, -1.0, 2.0, 2.0, 2.0, 2.0, 2.0, 12.0], 17: [2.0, -1.0, -1.0, 2.0, 2.0, 2.0, 2.0, 12.0], 18: [2.0, 2.0, 2.0, 2.0, -1.0, -1.0, -1.0, -1.0, 2.0, 2.0, -1.0, -1.0, 12.0], 19: [2.0, -1.0, -1.0, 2.0, -1.0, -1.0, -1.0, -1.0, 2.0, -1.0, -1.0, -1.0, 2.0, -1.0, -1.0, 2.0, 2.0, -1.0, -1.0, -1.0, 12.0], 20: [2.0, 2.0, 2.0, -1.0, 2.0, 2.0, 2.0, -1.0, -1.0, 2.0, 12.0], 21: [2.0, 2.0, 2.0, 2.0, 2.0, 12.0], 22: [2.0, -1.0, -1.0, -1.0, 2.0, 2.0, 2.0, 2.0, 12.0], 23: [2.0, 2.0, -1.0, -1.0, 2.0, -1.0, -1.0, -1.0, -1.0, -1.0, 2.0, 2.0, -1.0, -1.0, -1.0, -1.0, 12.0], 24: [-1.0, -1.0, -1.0, 2.0, -1.0, -1.0, 2.0, -1.0, -1.0, -1.0, 2.0, -1.0, 2.0, 2.0, -1.0, 2.0, 12.0], 25: [2.0, 2.0, -1.0, -1.0, -1.0, 2.0, -1.0, -1.0, -1.0, 2.0, 12.0], 26: [-1.0, -1.0, -1.0, -1.0, -1.0, 2.0, 2.0, 2.0, 2.0, -1.0, -1.0, -1.0, 2.0, 12.0], 27: [2.0, -1.0, -1.0, -1.0, -1.0, 2.0, 2.0, -1.0, 12.0], 28: [2.0, 2.0, -1.0, 2.0, 2.0, 12.0], 29: [2.0, 2.0, -1.0, 2.0, 2.0, 2.0, -1.0, -1.0, -1.0, 2.0, 12.0], 30: [2.0, -1.0, -1.0, -1.0, 2.0, 2.0, -1.0, -1.0, -1.0, 2.0, 12.0], 31: [2.0, 2.0, -1.0, -1.0, 2.0, 2.0, 2.0, 12.0], 32: [2.0, 2.0, 2.0, 12.0], 33: [-1.0, -1.0, -1.0, -1.0, 2.0, -1.0, -1.0, -1.0, 2.0, -1.0, 2.0, 2.0, 2.0, 2.0, 2.0, -1.0, -1.0, -1.0, 12.0], 34: [2.0, 2.0, -1.0, -1.0, -1.0, 2.0, -1.0, -1.0, -1.0, 2.0, -1.0, -1.0, 2.0, 12.0], 35: [2.0, 2.0, 2.0, 12.0], 36: [2.0, 2.0, 2.0, -1.0, 2.0, 2.0, 2.0, -1.0, -1.0, 12.0], 37: [2.0, -1.0, -1.0, -1.0, 2.0, 2.0, 12.0], 38: [-1.0, -1.0, -1.0, -1.0, -1.0, 2.0, -1.0, -1.0, -1.0, -1.0, 2.0, 2.0, -1.0, -1.0, -1.0, 12.0], 39: [-1.0, -1.0, -1.0, -1.0, -1.0, 2.0, -1.0, -1.0, -1.0, -1.0, 2.0, -1.0, 2.0, -1.0, -1.0, 2.0, -1.0, -1.0, 2.0, 2.0, 2.0, -1.0, -1.0, -1.0, 2.0, 12.0], 40: [2.0, -1.0, -1.0, 2.0, -1.0, -1.0, -1.0, -1.0, 2.0, -1.0, -1.0, -1.0, 2.0, -1.0, -1.0, 2.0, -1.0, -1.0, -1.0, -1.0, 12.0], 41: [2.0, 2.0, -1.0, 2.0, 2.0, 2.0, 2.0, -1.0, -1.0, 2.0, 12.0], 42: [2.0, -1.0, -1.0, -1.0, -1.0, 2.0, -1.0, -1.0, -1.0, -1.0, 2.0, -1.0, 2.0, 2.0, -1.0, -1.0, 2.0, 2.0, -1.0, -1.0, -1.0, 12.0], 43: [2.0, 2.0, 2.0, -1.0, 2.0, 2.0, -1.0, -1.0, -1.0, -1.0, 12.0], 44: [2.0, 2.0, 2.0, -1.0, 2.0, 2.0, -1.0, -1.0, -1.0, -1.0, 2.0, 2.0, -1.0, -1.0, -1.0, -1.0, 2.0, 12.0], 45: [2.0, -1.0, -1.0, -1.0, -1.0, 2.0, 2.0, 2.0, -1.0, -1.0, -1.0, -1.0, 2.0, -1.0, -1.0, 12.0], 46: [2.0, 2.0, 2.0, 2.0, 2.0, 2.0, -1.0, -1.0, -1.0, -1.0, 12.0], 47: [2.0, 2.0, -1.0, -1.0, -1.0, 2.0, -1.0, -1.0, -1.0, -1.0, 2.0, -1.0, 2.0, 2.0, 12.0], 48: [2.0, 2.0, 2.0, -1.0, -1.0, 12.0], 49: [2.0, -1.0, -1.0, -1.0, -1.0, 2.0, -1.0, -1.0, 2.0, 2.0, -1.0, -1.0, 12.0], 50: [2.0, 2.0, 2.0, -1.0, 12.0], 51: [2.0, 2.0, -1.0, -1.0, -1.0, 2.0, 2.0, 2.0, 12.0], 52: [2.0, 2.0, -1.0, -1.0, -1.0, 2.0, 2.0, -1.0, -1.0, 2.0, -1.0, -1.0, 2.0, -1.0, -1.0, 2.0, -1.0, -1.0, -1.0, -1.0, 12.0], 53: [2.0, 2.0, -1.0, -1.0, -1.0, 2.0, 2.0, -1.0, -1.0, -1.0, 2.0, 2.0, -1.0, -1.0, -1.0, -1.0, 2.0, -1.0, -1.0, -1.0, 2.0, -1.0, -1.0, -1.0, -1.0, 12.0], 54: [2.0, 2.0, -1.0, -1.0, -1.0, 2.0, 2.0, 2.0, 2.0, 2.0, 2.0, 12.0], 55: [2.0, 2.0, 2.0, 12.0], 56: [2.0, 2.0, -1.0, 2.0, 2.0, 2.0, -1.0, -1.0, 12.0], 57: [2.0, 2.0, -1.0, -1.0, -1.0, 2.0, -1.0, -1.0, -1.0, -1.0, 12.0], 58: [2.0, 2.0, -1.0, -1.0, -1.0, 2.0, 2.0, -1.0, -1.0, -1.0, 2.0, -1.0, -1.0, -1.0, -1.0, 2.0, -1.0, -1.0, 12.0], 59: [2.0, 2.0, 2.0, 12.0], 60: [-1.0, -1.0, -1.0, -1.0, 2.0, -1.0, -1.0, -1.0, 2.0, 2.0, -1.0, -1.0, -1.0, -1.0, -1.0, 12.0], 61: [2.0, 2.0, 2.0, 2.0, 2.0, 12.0], 62: [2.0, 2.0, -1.0, -1.0, -1.0, 2.0, 2.0, 2.0, -1.0, -1.0, -1.0, -1.0, 12.0], 63: [2.0, 2.0, 2.0, -1.0, -1.0, 2.0, 12.0], 64: [2.0, 2.0, -1.0, 2.0, -1.0, -1.0, -1.0, -1.0, 2.0, -1.0, -1.0, -1.0, 2.0, -1.0, -1.0, 2.0, 12.0], 65: [-1.0, -1.0, -1.0, -1.0, 2.0, 2.0, -1.0, -1.0, -1.0, -1.0, 2.0, 2.0, -1.0, -1.0, -1.0, -1.0, 12.0], 66: [2.0, 2.0, -1.0, 2.0, -1.0, 2.0, 2.0, 2.0, 12.0], 67: [-1.0, -1.0, -1.0, 2.0, -1.0, -1.0, -1.0, -1.0, 2.0, -1.0, -1.0, -1.0, 2.0, -1.0, -1.0, 2.0, 12.0], 68: [-1.0, -1.0, -1.0, -1.0, 2.0, -1.0, 2.0, -1.0, -1.0, 2.0, 2.0, 12.0], 69: [2.0, -1.0, -1.0, -1.0, 2.0, 2.0, -1.0, -1.0, -1.0, -1.0, 12.0], 70: [2.0, 2.0, 2.0, -1.0, 2.0, 2.0, 2.0, 2.0, -1.0, 2.0, -1.0, -1.0, 12.0], 71: [2.0, 2.0, -1.0, 2.0, -1.0, -1.0, 2.0, 2.0, -1.0, -1.0, 12.0], 72: [2.0, 2.0, -1.0, -1.0, 2.0, -1.0, 12.0], 73: [2.0, 2.0, -1.0, 2.0, 2.0, 12.0], 74: [2.0, 2.0, -1.0, -1.0, -1.0, 2.0, 2.0, 12.0], 75: [2.0, 2.0, 2.0, 12.0], 76: [2.0, 2.0, 2.0, 2.0, -1.0, -1.0, -1.0, -1.0, 12.0], 77: [2.0, -1.0, -1.0, 2.0, -1.0, 2.0, -1.0, -1.0, -1.0, -1.0, 2.0, -1.0, -1.0, -1.0, -1.0, 2.0, 2.0, -1.0, -1.0, -1.0, 2.0, 12.0], 78: [2.0, 2.0, -1.0, -1.0, -1.0, 2.0, 2.0, 2.0, 2.0, -1.0, -1.0, -1.0, 12.0], 79: [-1.0, -1.0, -1.0, -1.0, 2.0, -1.0, 2.0, 2.0, 12.0], 80: [2.0, -1.0, -1.0, -1.0, 2.0, -1.0, -1.0, -1.0, -1.0, -1.0, 2.0, 2.0, 2.0, 2.0, 12.0], 81: [2.0, 2.0, 2.0, -1.0, -1.0, 12.0], 82: [2.0, -1.0, -1.0, -1.0, 2.0, 2.0, 2.0, -1.0, -1.0, -1.0, 2.0, -1.0, 2.0, 12.0], 83: [2.0, 2.0, 2.0, 2.0, -1.0, -1.0, -1.0, -1.0, 2.0, 2.0, 2.0, -1.0, 2.0, 2.0, -1.0, 2.0, 2.0, 12.0], 84: [2.0, -1.0, -1.0, -1.0, -1.0, 2.0, 2.0, 12.0], 85: [2.0, 2.0, -1.0, 2.0, 2.0, 12.0], 86: [2.0, 2.0, 2.0, 2.0, -1.0, -1.0, -1.0, -1.0, 2.0, 2.0, -1.0, -1.0, 2.0, -1.0, -1.0, 12.0], 87: [2.0, 2.0, 2.0, -1.0, 2.0, 12.0], 88: [2.0, 2.0, -1.0, -1.0, 2.0, 2.0, 2.0, 2.0, -1.0, -1.0, -1.0, -1.0, 2.0, 12.0], 89: [2.0, -1.0, -1.0, -1.0, -1.0, 2.0, 2.0, 2.0, -1.0, -1.0, -1.0, -1.0, 2.0, -1.0, -1.0, 12.0], 90: [2.0, 2.0, -1.0, -1.0, -1.0, 2.0, 2.0, 12.0], 91: [-1.0, -1.0, -1.0, -1.0, 2.0, -1.0, -1.0, -1.0, -1.0, -1.0, 2.0, 2.0, -1.0, -1.0, -1.0, 2.0, 2.0, 2.0, -1.0, -1.0, 2.0, 2.0, 12.0], 92: [-1.0, -1.0, -1.0, 2.0, 2.0, -1.0, -1.0, -1.0, 2.0, -1.0, 2.0, 12.0], 93: [2.0, -1.0, -1.0, -1.0, -1.0, 2.0, -1.0, -1.0, -1.0, 2.0, 2.0, -1.0, -1.0, -1.0, -1.0, 2.0, -1.0, -1.0, 12.0], 94: [-1.0, -1.0, -1.0, -1.0, 2.0, -1.0, -1.0, -1.0, 2.0, 2.0, -1.0, -1.0, -1.0, -1.0, -1.0, 12.0], 95: [2.0, -1.0, -1.0, -1.0, -1.0, 2.0, 2.0, 2.0, -1.0, -1.0, 2.0, -1.0, 12.0], 96: [-1.0, -1.0, -1.0, -1.0, -1.0, 2.0, -1.0, -1.0, -1.0, -1.0, 2.0, 2.0, -1.0, -1.0, -1.0, 2.0, -1.0, -1.0, 2.0, -1.0, 2.0, 12.0], 97: [2.0, 2.0, 2.0, 2.0, 2.0, 2.0, 2.0, 2.0, 2.0, 2.0, 12.0], 98: [2.0, 2.0, -1.0, -1.0, -1.0, 2.0, 2.0, 2.0, -1.0, -1.0, 12.0], 99: [2.0, 2.0, 2.0, 2.0, 2.0, 2.0, -1.0, -1.0, -1.0, 12.0], 100: [2.0, 2.0, 2.0, 2.0, 2.0, -1.0, 2.0, 12.0]}"
   ]
  },
  {
   "cell_type": "code",
   "execution_count": 189,
   "metadata": {
    "collapsed": true
   },
   "outputs": [],
   "source": [
    "successes4 = [1, 1, 1, 1, 1, 1, 1, 1, 1, 1, 1, 1, 1, 1, 1, 1, 1, 1, 1, 1, 1, 1, 1, 1, 1, 1, 1, 1, 1, 1, 1, 1, 1, 1, 1, 1, 1, 1, 1, 1, 1, 1, 1, 1, 1, 1, 1, 1, 1, 1, 1, 1, 1, 1, 1, 1, 1, 1, 1, 1, 1, 1, 1, 1, 1, 1, 1, 1, 1, 1, 1, 1, 1, 1, 1, 1, 1, 1, 1, 1, 1, 1, 1, 1, 1, 1, 1, 1, 1, 1, 1, 1, 1, 1, 1, 1, 1, 1, 1, 1]"
   ]
  },
  {
   "cell_type": "code",
   "execution_count": 190,
   "metadata": {
    "collapsed": false
   },
   "outputs": [
    {
     "data": {
      "text/plain": [
       "12.85"
      ]
     },
     "execution_count": 190,
     "metadata": {},
     "output_type": "execute_result"
    }
   ],
   "source": []
  },
  {
   "cell_type": "code",
   "execution_count": 222,
   "metadata": {
    "collapsed": false
   },
   "outputs": [
    {
     "name": "stdout",
     "output_type": "stream",
     "text": [
      "12.85\n"
     ]
    },
    {
     "data": {
      "image/png": "[encoded data removed]",
      "text/plain": [
       "<matplotlib.figure.Figure at 0x115a23d50>"
      ]
     },
     "metadata": {},
     "output_type": "display_data"
    }
   ],
   "source": [
    "plt.bar(x,all_trial_moves4)\n",
    "plt.xlabel('Iteration')\n",
    "plt.ylabel('Moves to Destination')\n",
    "plt.savefig('OptimalPlannerPath.png')\n",
    "print np.average(all_trial_moves4[80:])"
   ]
  },
  {
   "cell_type": "code",
   "execution_count": 181,
   "metadata": {
    "collapsed": false
   },
   "outputs": [
    {
     "name": "stdout",
     "output_type": "stream",
     "text": [
      "('forward', 'red', None, None, 'forward') {'forward': -0.12122967729245429, 'right': -0.0061090534979423875, None: 0, 'left': 0}\n",
      "('forward', 'red', 'forward', None, None) {'forward': -0.16666666666666666, 'right': -0.04945825445816186, None: 0.0, 'left': -0.08333333333333333}\n",
      "('forward', 'green', None, None, None) {'forward': 4.068254907633045, 'right': -0.4981481481481483, None: 0.0, 'left': -0.018164648910411623}\n",
      "('forward', 'red', None, None, None) {'forward': -0.9238050612005628, 'right': -0.5075448294538956, None: 0.0, 'left': -1.0493783760258837}\n",
      "('forward', 'red', None, 'right', None) {'forward': -0.01687844827586207, 'right': 0, None: 0, 'left': 0}\n",
      "('forward', 'red', None, 'forward', None) {'forward': -0.05742458398063625, 'right': -0.011684931225124156, None: 0.0, 'left': 0}\n",
      "('left', 'green', None, None, None) {'forward': -0.5677083333333334, 'right': -0.5, None: 0.0, 'left': 3.302483703038789}\n",
      "('right', 'red', 'forward', None, None) {'forward': -0.030303030303030304, 'right': 0.05909090909090909, None: 0, 'left': 0}\n",
      "('forward', 'green', 'forward', None, None) {'forward': 0.6190894915646658, 'right': 0, None: 0, 'left': 0}\n",
      "('left', 'red', None, None, 'right') {'forward': -0.35225694444444444, 'right': 0, None: 0, 'left': 0}\n",
      "('forward', 'green', None, None, 'left') {'forward': 0.21862198609863975, 'right': 0, None: 0, 'left': 0}\n",
      "('right', 'red', 'left', None, None) {'forward': -0.016129032258064516, 'right': 0.031439443823461456, None: 0, 'left': 0}\n",
      "('forward', 'green', 'left', None, None) {'forward': 0.19128046696599793, 'right': 0, None: 0, 'left': 0}\n",
      "('left', 'red', 'left', None, None) {'forward': -0.3333333333333333, 'right': -0.10166666666666666, None: 0, 'left': 0}\n",
      "('forward', 'green', 'right', None, None) {'forward': 0.04462811853856865, 'right': 0, None: 0, 'left': 0}\n",
      "('right', 'green', 'left', None, None) {'forward': -0.025735918472474084, 'right': 0, None: 0, 'left': 0}\n",
      "('forward', 'red', None, 'left', None) {'forward': -0.03189583815856396, 'right': 0, None: 0, 'left': 0}\n",
      "('forward', 'green', None, None, 'right') {'forward': 0.04055966536768302, 'right': 0, None: 0, 'left': 0}\n",
      "('right', 'green', None, 'forward', None) {'forward': -0.036941693477005544, 'right': 0.02891774795203654, None: 0, 'left': 0}\n",
      "('left', 'red', None, 'right', None) {'forward': -0.014777585185185186, 'right': 0, None: 0, 'left': 0}\n",
      "('forward', 'green', None, None, 'forward') {'forward': 0.11144185526032349, 'right': 0, None: 0, 'left': 0}\n",
      "('right', 'red', None, None, None) {'forward': -1.055, 'right': 2.677301782863797, None: 0, 'left': -0.16666666666666666}\n",
      "('left', 'red', 'forward', None, None) {'forward': -0.0125, 'right': -0.003078946696621244, None: 0.0, 'left': 0}\n",
      "('left', 'green', None, 'forward', None) {'forward': -0.08650000000000001, 'right': 0, None: 0, 'left': 0}\n",
      "('right', 'green', None, None, 'right') {'forward': -0.020183333333333334, 'right': 0, None: 0, 'left': 0}\n",
      "('forward', 'green', None, 'right', None) {'forward': 0.4094214226720133, 'right': 0, None: 0, 'left': 0}\n",
      "('right', 'green', None, None, 'left') {'forward': -0.043250000000000004, 'right': 0, None: 0, 'left': 0}\n",
      "('right', 'red', None, None, 'forward') {'forward': -0.03158571428571428, 'right': 0, None: 0, 'left': 0}\n",
      "('forward', 'green', None, 'forward', None) {'forward': 0.2312748840211674, 'right': 0, None: 0, 'left': 0}\n",
      "('right', 'green', None, None, 'forward') {'forward': -0.12110000000000001, 'right': 0, None: 0, 'left': 0}\n",
      "('forward', 'green', None, 'left', None) {'forward': 0.1702186774351043, 'right': 0, None: 0, 'left': 0}\n",
      "('forward', 'red', 'left', None, None) {'forward': -0.012195121951219513, 'right': -0.006697460580254089, None: 0, 'left': 0}\n",
      "('left', 'green', None, 'left', None) {'forward': -0.006582005623556182, 'right': 0, None: 0, 'left': 0}\n",
      "('right', 'green', None, None, None) {'forward': -0.5313606235121494, 'right': 2.9607975595886367, None: 0.0, 'left': -0.5800000000000001}\n",
      "('left', 'red', None, None, None) {'forward': -1.083188888888889, 'right': -0.4919176758083529, None: 0.0, 'left': -0.8311111111111111}\n",
      "('left', 'green', 'left', None, None) {'forward': 0, 'right': 0, None: 0.0, 'left': 0}\n"
     ]
    }
   ],
   "source": [
    "for state in q:\n",
    "    print state, q[state]"
   ]
  },
  {
   "cell_type": "code",
   "execution_count": 191,
   "metadata": {
    "collapsed": false
   },
   "outputs": [
    {
     "data": {
      "text/plain": [
       "'\\n        self.epsilon = 1./(self.iteration + 1)\\n        self.gamma = 0.2\\n        self.alpha = self.epsilon\\n'"
      ]
     },
     "execution_count": 191,
     "metadata": {},
     "output_type": "execute_result"
    }
   ],
   "source": [
    "'''\n",
    "        self.epsilon = 1./(self.iteration + 1)\n",
    "        self.gamma = 0.2\n",
    "        self.alpha = self.epsilon\n",
    "'''"
   ]
  },
  {
   "cell_type": "code",
   "execution_count": 192,
   "metadata": {
    "collapsed": true
   },
   "outputs": [],
   "source": [
    "all_trial_moves5 = np.array([12, 16, 8, 27, 8, 11, 17, 5, 16, 13, 7, 11, 16, 11, 12, 16, 13, 9, 13, 18, 16, 12, 21, 6, 8, 18, 11, 16, 16, 14, 25, 5, 11, 17, 11, 23, 8, 19, 9, 17, 18, 21, 28, 13, 6, 18, 8, 11, 6, 12, 15, 9, 13, 7, 7, 5, 8, 21, 7, 16, 4, 17, 17, 12, 7, 14, 6, 22, 10, 13, 13, 10, 7, 8, 11, 13, 21, 10, 27, 8, 9, 12, 14, 12, 4, 22, 29, 21, 16, 13, 7, 17, 21, 19, 31, 12, 16, 6, 22, 7])"
   ]
  },
  {
   "cell_type": "code",
   "execution_count": 193,
   "metadata": {
    "collapsed": false
   },
   "outputs": [
    {
     "data": {
      "text/plain": [
       "15.5"
      ]
     },
     "execution_count": 193,
     "metadata": {},
     "output_type": "execute_result"
    }
   ],
   "source": [
    "np.average(all_trial_moves5[80:])"
   ]
  },
  {
   "cell_type": "code",
   "execution_count": 194,
   "metadata": {
    "collapsed": true
   },
   "outputs": [],
   "source": [
    "successes = [1, 1, 1, 1, 1, 1, 1, 1, 1, 1, 1, 1, 1, 1, 1, 1, 1, 1, 1, 1, 1, 1, 1, 1, 1, 1, 1, 1, 1, 1, 1, 1, 1, 1, 1, 1, 1, 1, 1, 1, 1, 1, 1, 1, 1, 1, 1, 1, 1, 1, 1, 1, 1, 1, 1, 1, 1, 1, 1, 1, 1, 1, 1, 1, 1, 1, 1, 1, 1, 1, 1, 1, 1, 1, 1, 1, 1, 1, 1, 1, 1, 1, 1, 1, 1, 1, 1, 1, 1, 1, 1, 1, 1, 1, 1, 1, 1, 1, 1, 1]"
   ]
  },
  {
   "cell_type": "code",
   "execution_count": 209,
   "metadata": {
    "collapsed": false
   },
   "outputs": [
    {
     "data": {
      "text/plain": [
       "'\\nfixed ordering of qmax calculation, so right action used in q update\\n'"
      ]
     },
     "execution_count": 209,
     "metadata": {},
     "output_type": "execute_result"
    }
   ],
   "source": [
    "'''\n",
    "fixed ordering of qmax calculation, so right action used in q update\n",
    "'''"
   ]
  },
  {
   "cell_type": "code",
   "execution_count": 196,
   "metadata": {
    "collapsed": false
   },
   "outputs": [
    {
     "data": {
      "text/plain": [
       "'\\n        self.epsilon = 0.2\\n        self.gamma = 0.2\\n        self.alpha = 0.2\\n'"
      ]
     },
     "execution_count": 196,
     "metadata": {},
     "output_type": "execute_result"
    }
   ],
   "source": [
    "'''\n",
    "        self.epsilon = 0.2\n",
    "        self.gamma = 0.2\n",
    "        self.alpha = 0.2\n",
    "'''"
   ]
  },
  {
   "cell_type": "code",
   "execution_count": 205,
   "metadata": {
    "collapsed": true
   },
   "outputs": [],
   "source": [
    "all_trial_moves6 = np.array([40, 17, 14, 26, 15, 21, 12, 7, 10, 16, 11, 9, 16, 17, 19, 13, 7, 15, 13, 8, 38, 14, 19, 21, 8, 18, 14, 4, 12, 7, 16, 20, 17, 14, 8, 10, 25, 17, 14, 13, 7, 13, 12, 13, 16, 14, 13, 21, 19, 12, 14, 11, 16, 7, 6, 16, 9, 17, 10, 9, 18, 13, 5, 9, 16, 21, 8, 9, 16, 23, 4, 7, 21, 17, 13, 9, 7, 11, 9, 10, 7, 13, 9, 14, 17, 6, 6, 21, 18, 13, 14, 15, 12, 13, 22, 7, 5, 13, 16, 12])"
   ]
  },
  {
   "cell_type": "code",
   "execution_count": 206,
   "metadata": {
    "collapsed": false
   },
   "outputs": [
    {
     "data": {
      "text/plain": [
       "12.65"
      ]
     },
     "execution_count": 206,
     "metadata": {},
     "output_type": "execute_result"
    }
   ],
   "source": [
    "np.average(all_trial_moves6[80:])"
   ]
  },
  {
   "cell_type": "code",
   "execution_count": 207,
   "metadata": {
    "collapsed": true
   },
   "outputs": [],
   "source": [
    "optimal_distances6 = [8, 6, 4, 5, 7, 7, 6, 4, 5, 6, 4, 4, 6, 7, 8, 10, 4, 5, 5, 4, 9, 5, 8, 5, 6, 9, 6, 4, 4, 4, 5, 7, 4, 7, 5, 6, 5, 7, 5, 5, 5, 7, 7, 5, 8, 7, 5, 7, 7, 7, 4, 5, 5, 4, 4, 7, 5, 5, 6, 6, 6, 5, 4, 6, 8, 4, 6, 6, 7, 6, 4, 5, 10, 4, 5, 5, 7, 5, 5, 4, 5, 6, 6, 6, 5, 4, 5, 8, 8, 5, 6, 4, 6, 5, 8, 4, 4, 5, 6, 4]"
   ]
  },
  {
   "cell_type": "code",
   "execution_count": 208,
   "metadata": {
    "collapsed": true
   },
   "outputs": [],
   "source": [
    "all_rewards6 = {1: [0.0, -1.0, -0.5, -1.0, 0.0, 0.0, -0.5, -0.5, -0.5, -0.5, -0.5, -1.0, 2.0, 2.0, 0.0, -0.5, -0.5, -0.5, -1.0, -1.0, 2.0, 2.0, -0.5, 0.0, 0.0, 2.0, -0.5, 2.0, 0.0, 2.0, -1.0, 2.0, -0.5, 0.0, -0.5, -0.5, -1.0, -0.5, 0.0, 12.0], 2: [0.0, -1.0, -1.0, 0.0, 2.0, -1.0, 0.0, -0.5, 0.0, 2.0, 2.0, 2.0, 0.0, -1.0, -1.0, 0.0, 12.0], 3: [2.0, 2.0, 0.0, 2.0, 2.0, -0.5, 0.0, -0.5, -1.0, 0.0, -1.0, 0.0, 2.0, 12.0], 4: [-1.0, -1.0, -1.0, 2.0, 2.0, 0.0, 2.0, 2.0, 0.0, 2.0, 0.0, 0.0, 2.0, -0.5, 2.0, 0.0, 2.0, 0.0, 0.0, 0.0, 2.0, 2.0, 0.0, 0.0, 2.0, 2.0], 5: [2.0, 2.0, 0.0, 2.0, 0.0, 2.0, 2.0, 2.0, 0.0, -1.0, -0.5, 2.0, 2.0, 2.0, 12.0], 6: [0.0, 2.0, 2.0, 2.0, 0.0, 0.0, -1.0, 0.0, 2.0, 0.0, 0.0, 0.0, 2.0, 2.0, -1.0, 0.0, 2.0, 2.0, -1.0, 0.0, 12.0], 7: [2.0, 2.0, 2.0, 2.0, 0.0, 0.0, 2.0, 0.0, -1.0, 0.0, 0.0, 12.0], 8: [2.0, 0.0, 0.0, 0.0, 2.0, 2.0, 12.0], 9: [2.0, 0.0, 0.0, 0.0, 0.0, 2.0, 2.0, 0.0, 2.0, 12.0], 10: [2.0, 2.0, 0.0, -1.0, 2.0, 0.0, 0.0, 0.0, 2.0, 2.0, 0.0, -1.0, 0.0, 0.0, 0.0, 12.0], 11: [2.0, 0.0, 0.0, 0.0, 0.0, 2.0, 0.0, 0.0, 0.0, 2.0, 12.0], 12: [0.0, 0.0, 0.0, 0.0, 0.0, 2.0, 2.0, 2.0, 12.0], 13: [2.0, 0.0, 0.0, 2.0, 2.0, 0.0, 2.0, -0.5, 2.0, 2.0, 2.0, 2.0, 0.0, 0.0, 0.0, 12.0], 14: [2.0, 0.0, 0.0, 2.0, 0.0, 2.0, 2.0, 0.0, 0.0, 2.0, 0.0, 0.0, 2.0, 0.0, 0.0, 0.0, 12.0], 15: [2.0, 2.0, 2.0, 2.0, 2.0, 0.0, 2.0, 2.0, 0.0, -1.0, 0.0, 0.0, 2.0, 0.0, 0.0, 2.0, 0.0, 0.0, 12.0], 16: [2.0, 2.0, 2.0, 2.0, 2.0, 2.0, 0.0, 0.0, 2.0, 2.0, 2.0, 0.0, 12.0], 17: [2.0, 0.0, 0.0, 0.0, 2.0, 2.0, 12.0], 18: [0.0, 0.0, 0.0, 0.0, 2.0, 0.0, 0.0, 0.0, 0.0, 0.0, 2.0, 0.0, 2.0, 2.0, 12.0], 19: [2.0, 0.0, 0.0, 0.0, 2.0, 0.0, 2.0, 0.0, 0.0, 0.0, 2.0, 0.0, 12.0], 20: [-1.0, 0.0, 0.0, 2.0, 0.0, 2.0, 2.0, 12.0], 21: [2.0, 2.0, 0.0, -0.5, 2.0, 2.0, 0.0, 0.0, 0.0, 2.0, 0.0, -0.5, 2.0, 2.0, -0.5, 0.0, 0.0, -0.5, 2.0, 2.0, 0.0, 2.0, 2.0, 0.0, 2.0, -1.0, 0.0, 0.0, 2.0, 2.0, 2.0, 0.0, 2.0, 0.0, 0.0, 2.0, 2.0, 12.0], 22: [-0.5, 2.0, 2.0, 0.0, 0.0, 0.0, 2.0, 2.0, 0.0, 2.0, 2.0, -1.0, 2.0, 12.0], 23: [0.0, 0.0, 0.0, 0.0, 2.0, 0.0, 2.0, 0.0, 0.0, 2.0, 0.0, 0.0, 2.0, -1.0, 0.0, 2.0, 2.0, 2.0, 12.0], 24: [0.0, 0.0, -0.5, -1.0, -0.5, 2.0, 2.0, 0.0, 0.0, 0.0, 2.0, 0.0, 2.0, 0.0, 0.0, 0.0, 2.0, 2.0, 0.0, 0.0, 12.0], 25: [2.0, 2.0, 2.0, 0.0, 0.0, 2.0, 2.0, 12.0], 26: [2.0, 0.0, 0.0, 0.0, 2.0, 0.0, 2.0, 0.0, 0.0, 0.0, 2.0, 2.0, 2.0, -1.0, 0.0, 2.0, 2.0, 12.0], 27: [0.0, 0.0, 0.0, 2.0, 2.0, 2.0, 0.0, 0.0, 0.0, 0.0, 2.0, 0.0, 2.0, 12.0], 28: [2.0, 2.0, 2.0, 12.0], 29: [2.0, 0.0, 0.0, 0.0, 2.0, -0.5, 0.0, 0.0, 0.0, 2.0, 2.0, 12.0], 30: [2.0, 0.0, 0.0, 2.0, 0.0, 2.0, 12.0], 31: [2.0, 2.0, 0.0, 0.0, 2.0, 0.0, 0.0, 0.0, 2.0, 2.0, 2.0, 0.0, 0.0, 0.0, 0.0, 12.0], 32: [0.0, 0.0, 0.0, 2.0, 0.0, 0.0, 0.0, 0.0, 2.0, 0.0, 0.0, 0.0, 2.0, 0.0, 0.0, 2.0, 2.0, 0.0, 2.0, 12.0], 33: [0.0, 0.0, -1.0, 0.0, 2.0, 0.0, 0.0, 0.0, 0.0, 0.0, 2.0, 2.0, 0.0, 0.0, 0.0, 0.0, 12.0], 34: [2.0, 2.0, 2.0, 0.0, 2.0, 0.0, 0.0, 0.0, 0.0, 0.0, 2.0, 0.0, 2.0, 12.0], 35: [2.0, 2.0, 0.0, 2.0, -1.0, 0.0, 2.0, 12.0], 36: [2.0, 2.0, 2.0, -1.0, 2.0, 2.0, -1.0, 2.0, 2.0, 12.0], 37: [0.0, -0.5, 2.0, 0.0, 2.0, 0.0, 0.0, 0.0, 0.0, 0.0, 2.0, 2.0, 0.0, 0.0, 0.0, 2.0, 0.0, 0.0, 2.0, 0.0, 2.0, 0.0, 0.0, 0.0, 12.0], 38: [0.0, 0.0, 0.0, 2.0, 0.0, 0.0, 2.0, 0.0, 0.0, 2.0, 2.0, 0.0, 2.0, 2.0, 0.0, 0.0, 12.0], 39: [2.0, 0.0, 0.0, 0.0, 0.0, 2.0, 0.0, 0.0, 0.0, 2.0, 0.0, 0.0, 2.0, 12.0], 40: [2.0, 2.0, -0.5, 2.0, 0.0, 0.0, 0.0, 0.0, 2.0, 2.0, -0.5, 2.0, 12.0], 41: [2.0, 2.0, 2.0, 0.0, 2.0, 0.0, 12.0], 42: [2.0, 2.0, 0.0, 0.0, 2.0, 0.0, 2.0, 2.0, 2.0, 0.0, 0.0, 0.0, 12.0], 43: [2.0, 2.0, 0.0, 0.0, 2.0, 2.0, 0.0, 0.0, 2.0, 0.0, 2.0, 12.0], 44: [2.0, 0.0, 0.0, 0.0, 0.0, 2.0, 0.0, 0.0, 0.0, 2.0, 2.0, 0.0, 12.0], 45: [2.0, 0.0, 0.0, 0.0, 2.0, 2.0, 0.0, 0.0, 2.0, 0.0, 2.0, 2.0, 2.0, 0.0, 0.0, 12.0], 46: [-0.5, 2.0, 2.0, 2.0, 0.0, 0.0, 2.0, 0.0, 0.0, 0.0, 2.0, 2.0, 2.0, 12.0], 47: [2.0, 2.0, 0.0, 0.0, 0.0, 2.0, 0.0, 0.0, 0.0, 2.0, 2.0, 2.0, 12.0], 48: [0.0, -1.0, 0.0, 2.0, 0.0, 0.0, 0.0, 0.0, 2.0, 0.0, 0.0, 0.0, 2.0, 2.0, 0.0, 2.0, 2.0, 0.0, 0.0, 0.0, 12.0], 49: [2.0, 0.0, -1.0, 0.0, 2.0, -0.5, 2.0, 0.0, 0.0, 2.0, 2.0, 0.0, 2.0, 0.0, 0.0, 0.0, 2.0, 0.0, 12.0], 50: [2.0, 0.0, 0.0, 0.0, 2.0, 0.0, 2.0, 2.0, 0.0, 2.0, 2.0, 12.0], 51: [2.0, 2.0, 0.0, 0.0, 0.0, 2.0, 0.0, 0.0, 0.0, 2.0, 0.0, 0.0, 2.0, 12.0], 52: [-1.0, 0.0, 0.0, 2.0, 0.0, 0.0, 2.0, 2.0, 0.0, 2.0, 12.0], 53: [2.0, 0.0, 0.0, 0.0, 2.0, 0.0, 0.0, 0.0, -0.5, 2.0, 2.0, 0.0, 2.0, 0.0, 0.0, 12.0], 54: [2.0, 2.0, 2.0, 0.0, 0.0, -1.0, 12.0], 55: [2.0, 2.0, 2.0, 2.0, 2.0, 12.0], 56: [2.0, 2.0, 0.0, 0.0, 0.0, 2.0, 0.0, 0.0, 0.0, 2.0, 0.0, 0.0, 2.0, 2.0, 0.0, 12.0], 57: [2.0, 2.0, 0.0, 2.0, 0.0, 0.0, 2.0, 0.0, 12.0], 58: [0.0, 0.0, 0.0, 2.0, 0.0, 0.0, 0.0, 0.0, 2.0, 0.0, 0.0, 0.0, 2.0, 2.0, 0.0, 0.0, 12.0], 59: [2.0, 0.0, 0.0, 2.0, 0.0, 2.0, 2.0, 0.0, 2.0, 12.0], 60: [2.0, 2.0, 2.0, 0.0, 0.0, 2.0, 2.0, 0.0, 12.0], 61: [0.0, 0.0, 0.0, 2.0, 0.0, 0.0, 0.0, 0.0, 2.0, 0.0, 0.0, 0.0, 2.0, 0.0, 0.0, 2.0, 2.0, 12.0], 62: [0.0, 0.0, 0.0, 2.0, 2.0, 2.0, 0.0, 0.0, 2.0, 0.0, 0.0, 0.0, 12.0], 63: [2.0, 2.0, 0.0, 2.0, 12.0], 64: [2.0, 2.0, 2.0, 2.0, 2.0, 0.0, 0.0, 0.0, 12.0], 65: [2.0, 2.0, 0.0, 0.0, 2.0, 0.0, 0.0, 0.0, 2.0, 2.0, 2.0, 0.0, 2.0, 0.0, 0.0, 12.0], 66: [2.0, 2.0, 0.0, 0.0, 0.0, 2.0, 0.0, 0.0, 0.0, 0.0, 2.0, 2.0, 2.0, 2.0, 0.0, 2.0, 2.0, 0.0, 0.0, 0.0, 2.0], 67: [2.0, 2.0, 2.0, 0.0, 0.0, 2.0, 2.0, 12.0], 68: [2.0, 2.0, 2.0, 2.0, 0.0, -1.0, 2.0, 0.0, 12.0], 69: [0.0, 0.0, 0.0, 2.0, 2.0, 2.0, 0.0, 0.0, 0.0, 0.0, 2.0, 0.0, 2.0, 2.0, 0.0, 12.0], 70: [0.0, 0.0, 0.0, 0.0, 0.0, 2.0, 0.0, 0.0, 0.0, 2.0, 2.0, -0.5, 2.0, 2.0, 2.0, 0.0, 0.0, 0.0, 2.0, 0.0, 0.0, 2.0, 12.0], 71: [2.0, 2.0, 2.0, 12.0], 72: [2.0, 2.0, 2.0, 0.0, 2.0, 0.0, 12.0], 73: [0.0, 0.0, 0.0, 2.0, 2.0, 0.0, 2.0, 2.0, 2.0, 0.0, 2.0, 2.0, 0.0, 0.0, 0.0, 2.0, 2.0, 0.0, 0.0, 0.0, 12.0], 74: [0.0, 0.0, 0.0, 0.0, 2.0, -0.5, 2.0, -1.0, 2.0, 2.0, 0.0, 0.0, 2.0, 0.0, 0.0, 2.0, 12.0], 75: [0.0, 0.0, 0.0, -0.5, 2.0, 2.0, 0.0, 0.0, 0.0, 2.0, 2.0, 2.0, 12.0], 76: [2.0, 0.0, 0.0, 2.0, 0.0, 2.0, 2.0, 0.0, 12.0], 77: [2.0, 2.0, 2.0, 2.0, 2.0, 2.0, 12.0], 78: [0.0, 0.0, 0.0, 0.0, 2.0, 2.0, 0.0, 0.0, 2.0, 2.0, 12.0], 79: [0.0, 0.0, 0.0, 2.0, 0.0, 2.0, 2.0, 2.0, 12.0], 80: [2.0, 0.0, 0.0, 0.0, 2.0, 2.0, 0.0, 0.0, 0.0, 12.0], 81: [2.0, 2.0, 0.0, 2.0, 0.0, 2.0, 12.0], 82: [2.0, 2.0, 0.0, 2.0, 2.0, 0.0, 0.0, 0.0, 0.0, 0.0, 2.0, 0.0, 12.0], 83: [2.0, 2.0, 2.0, 0.0, 2.0, 2.0, 0.0, 0.0, 12.0], 84: [2.0, -0.5, 0.0, 0.0, 2.0, 0.0, 0.0, 0.0, 2.0, 0.0, 0.0, 0.0, 2.0, 12.0], 85: [0.0, 0.0, 0.0, 0.0, 0.0, 2.0, 2.0, 0.0, 0.0, 2.0, 0.0, 0.0, 0.0, 0.0, 0.0, 2.0, 12.0], 86: [2.0, 2.0, 2.0, 2.0, 2.0, 12.0], 87: [2.0, 2.0, 2.0, 0.0, 2.0, 12.0], 88: [2.0, 2.0, 0.0, 0.0, 0.0, 2.0, 0.0, 0.0, 2.0, 0.0, 0.0, 0.0, 2.0, 2.0, 0.0, 0.0, 2.0, 2.0, 2.0, 0.0, 12.0], 89: [0.0, 0.0, 0.0, 0.0, 0.0, 2.0, 2.0, 0.0, 0.0, 0.0, 2.0, 2.0, 2.0, 0.0, 0.0, 2.0, 2.0, 12.0], 90: [2.0, 0.0, 0.0, 0.0, 2.0, 2.0, 0.0, 0.0, 2.0, 0.0, 0.0, 0.0, 12.0], 91: [2.0, 0.0, 0.0, 0.0, 0.0, 2.0, 2.0, 0.0, 2.0, 0.0, 0.0, 0.0, 2.0, 12.0], 92: [2.0, 0.0, 0.0, 0.0, 2.0, 2.0, 2.0, 2.0, 2.0, 2.0, 2.0, 2.0, 2.0, 2.0, 12.0], 93: [2.0, 2.0, 0.0, 2.0, 2.0, 0.0, 0.0, 0.0, 0.0, 0.0, 2.0, 12.0], 94: [0.0, 0.0, 0.0, -1.0, 0.0, 2.0, 0.0, 0.0, 2.0, 2.0, 2.0, 0.0, 12.0], 95: [2.0, 2.0, 0.0, 2.0, 2.0, 0.0, 0.0, 0.0, 2.0, 0.0, 0.0, 0.0, 2.0, 0.0, 0.0, 0.0, 0.0, 0.0, 0.0, 0.0, 2.0, 12.0], 96: [2.0, 2.0, 2.0, 0.0, 0.0, 0.0, 12.0], 97: [2.0, 2.0, 2.0, 0.0, 12.0], 98: [0.0, 0.0, 0.0, 0.0, 2.0, 2.0, 2.0, 0.0, 0.0, 2.0, 0.0, 0.0, 12.0], 99: [0.0, 0.0, 0.0, 0.0, 0.0, 2.0, 2.0, 2.0, 2.0, 0.0, 0.0, 0.0, 2.0, 0.0, 0.0, 12.0], 100: [2.0, 2.0, 2.0, 0.0, -0.5, 0.0, 0.0, 0.0, 0.0, 0.0, 2.0, 12.0]}"
   ]
  },
  {
   "cell_type": "code",
   "execution_count": 202,
   "metadata": {
    "collapsed": false
   },
   "outputs": [],
   "source": [
    "successes = successes = [1, 1, 1, 0, 1, 1, 1, 1, 1, 1, 1, 1, 1, 1, 1, 1, 1, 1, 1, 1, 1, 1, 1, 1, 1, 1, 1, 1, 1, 1, 1, 1, 1, 1, 1, 1, 1, 1, 1, 1, 1, 1, 1, 1, 1, 1, 1, 1, 1, 1, 1, 1, 1, 1, 1, 1, 1, 1, 1, 1, 1, 1, 1, 1, 1, 0, 1, 1, 1, 1, 1, 1, 1, 1, 1, 1, 1, 1, 1, 1, 1, 1, 1, 1, 1, 1, 1, 1, 1, 1, 1, 1, 1, 1, 1, 1, 1, 1, 1, 1]"
   ]
  },
  {
   "cell_type": "code",
   "execution_count": 210,
   "metadata": {
    "collapsed": true
   },
   "outputs": [],
   "source": [
    "q={('forward', 'red', None, None, 'forward'): {'forward': -0.020109067994298808, 'right': -0.005740103373520212, None: 0, 'left': 0}, ('forward', 'red', None, None, None): {'forward': -0.7149999810500113, 'right': -0.2410843296669987, None: 0.1695560453870888, 'left': -0.54269733239523}, ('forward', 'red', None, 'right', None): {'forward': -0.04673339248577532, 'right': 0, None: 0, 'left': 0}, ('forward', 'red', 'forward', None, None): {'forward': -0.029147670021473903, 'right': -0.004030984827398921, None: 0.009510520931783829, 'left': 0}, ('forward', 'green', 'left', 'forward', None): {'forward': 0.0458769469394374, 'right': 0, None: 0, 'left': 0}, ('right', 'red', 'forward', None, None): {'forward': -0.1361875, 'right': 0.15505803231520768, None: 0, 'left': -0.4375}, ('right', 'red', 'left', None, None): {'forward': -0.041666666666666664, 'right': 0.09427251331875283, None: 0, 'left': 0}, ('forward', 'green', 'left', None, None): {'forward': 0.06462863925644732, 'right': 0, None: 0, 'left': 0}, ('forward', 'green', None, None, 'right'): {'forward': 0.11211165484265333, 'right': 0, None: 0, 'left': 0}, ('right', 'green', None, 'forward', None): {'forward': -0.01270483372485157, 'right': 0, None: 0, 'left': 0}, ('right', 'green', 'left', None, None): {'forward': -0.011682409658761935, 'right': 0, None: 0, 'left': -0.3}, ('left', 'red', None, 'right', None): {'forward': -0.010461863312619576, 'right': 0, None: 0, 'left': 0}, ('forward', 'red', 'right', None, None): {'forward': 0, 'right': 0, None: 0, 'left': -0.5}, ('left', 'red', 'forward', None, None): {'forward': -0.00960985746800536, 'right': 0, None: 0, 'left': 0}, ('left', 'green', None, None, 'forward'): {'forward': -0.0024149015318874704, 'right': 0, None: 0, 'left': 0}, ('left', 'green', 'left', None, None): {'forward': -0.02294631168880065, 'right': 0, None: 0, 'left': 0}, ('forward', 'red', None, 'forward', None): {'forward': -0.049003733511909314, 'right': -0.009973372902326744, None: 0.003924591381826847, 'left': 0}, ('forward', 'green', None, None, None): {'forward': 4.182692567109365, 'right': -0.2970259431608922, None: 0.227603348187364, 'left': -0.48598769166871447}, ('forward', 'green', None, None, 'forward'): {'forward': 0.034265901019191615, 'right': 0, None: 0, 'left': 0}, ('left', 'red', None, None, None): {'forward': -0.9769113250979861, 'right': -0.4952932855328915, None: 0.16241164067344682, 'left': -1.0}, ('left', 'red', None, None, 'forward'): {'forward': -0.03766630092850265, 'right': -0.0054347439964264055, None: 0, 'left': 0}, ('forward', 'green', None, None, 'left'): {'forward': 0.25047207588926906, 'right': 0, None: 0, 'left': 0}, ('forward', 'green', 'right', None, None): {'forward': 0.045340980219101795, 'right': 0, None: 0, 'left': 0}, ('left', 'green', None, None, 'left'): {'forward': 0, 'right': 0, None: 0, 'left': 2.0}, ('forward', 'red', 'left', None, None): {'forward': -0.027777777777777776, 'right': 0, None: 0, 'left': 0}, ('left', 'green', None, None, None): {'forward': -0.5, 'right': -0.3, None: 0.0, 'left': 3.446027023800566}, ('right', 'red', None, 'right', None): {'forward': -0.020075649804677274, 'right': 0, None: 0, 'left': 0}, ('right', 'red', None, None, None): {'forward': 0, 'right': 2.871015107677607, None: 0.2189029939876054, 'left': -0.778}, ('right', 'green', None, None, None): {'forward': -0.4927805605449429, 'right': 3.2417937736116156, None: 0.069, 'left': -0.48573333333333335}, ('right', 'green', None, None, 'left'): {'forward': 0, 'right': 0, None: 0, 'left': -0.07388888888888888}, ('right', 'red', None, None, 'right'): {'forward': -0.009193808998403236, 'right': 0, None: 0, 'left': 0}, ('forward', 'green', None, 'forward', None): {'forward': 0.9914871063856951, 'right': 0, None: 0, 'left': 0}, ('forward', 'green', None, 'right', None): {'forward': 0.6692690090256391, 'right': 0, None: 0, 'left': 0}, ('forward', 'green', None, 'left', None): {'forward': 0.11579104285969072, 'right': 0, None: 0, 'left': 0}, ('forward', 'red', None, 'left', None): {'forward': -0.16480684513404104, 'right': 0, None: 0, 'left': 0}, ('left', 'green', None, 'forward', None): {'forward': -0.019267029736637162, 'right': -0.002420844171290142, None: 0.00017663509544954146, 'left': 0}}"
   ]
  },
  {
   "cell_type": "code",
   "execution_count": 211,
   "metadata": {
    "collapsed": false
   },
   "outputs": [
    {
     "name": "stdout",
     "output_type": "stream",
     "text": [
      "('forward', 'red', None, None, 'forward') {'forward': -0.020109067994298808, 'right': -0.005740103373520212, None: 0, 'left': 0}\n",
      "('forward', 'green', None, None, None) {'forward': 4.182692567109365, 'right': -0.2970259431608922, None: 0.227603348187364, 'left': -0.48598769166871447}\n",
      "('forward', 'red', None, None, None) {'forward': -0.7149999810500113, 'right': -0.2410843296669987, None: 0.1695560453870888, 'left': -0.54269733239523}\n",
      "('forward', 'red', None, 'right', None) {'forward': -0.04673339248577532, 'right': 0, None: 0, 'left': 0}\n",
      "('forward', 'red', 'forward', None, None) {'forward': -0.029147670021473903, 'right': -0.004030984827398921, None: 0.009510520931783829, 'left': 0}\n",
      "('forward', 'green', 'left', 'forward', None) {'forward': 0.0458769469394374, 'right': 0, None: 0, 'left': 0}\n",
      "('left', 'green', None, None, None) {'forward': -0.5, 'right': -0.3, None: 0.0, 'left': 3.446027023800566}\n",
      "('right', 'red', 'forward', None, None) {'forward': -0.1361875, 'right': 0.15505803231520768, None: 0, 'left': -0.4375}\n",
      "('left', 'red', None, None, 'forward') {'forward': -0.03766630092850265, 'right': -0.0054347439964264055, None: 0, 'left': 0}\n",
      "('forward', 'green', None, None, 'left') {'forward': 0.25047207588926906, 'right': 0, None: 0, 'left': 0}\n",
      "('right', 'red', 'left', None, None) {'forward': -0.041666666666666664, 'right': 0.09427251331875283, None: 0, 'left': 0}\n",
      "('left', 'green', None, None, 'left') {'forward': 0, 'right': 0, None: 0, 'left': 2.0}\n",
      "('forward', 'green', 'left', None, None) {'forward': 0.06462863925644732, 'right': 0, None: 0, 'left': 0}\n",
      "('right', 'red', None, None, None) {'forward': 0, 'right': 2.871015107677607, None: 0.2189029939876054, 'left': -0.778}\n",
      "('forward', 'green', None, 'left', None) {'forward': 0.11579104285969072, 'right': 0, None: 0, 'left': 0}\n",
      "('right', 'green', 'left', None, None) {'forward': -0.011682409658761935, 'right': 0, None: 0, 'left': -0.3}\n",
      "('forward', 'red', None, 'left', None) {'forward': -0.16480684513404104, 'right': 0, None: 0, 'left': 0}\n",
      "('right', 'red', None, 'right', None) {'forward': -0.020075649804677274, 'right': 0, None: 0, 'left': 0}\n",
      "('right', 'green', None, 'forward', None) {'forward': -0.01270483372485157, 'right': 0, None: 0, 'left': 0}\n",
      "('left', 'red', None, 'right', None) {'forward': -0.010461863312619576, 'right': 0, None: 0, 'left': 0}\n",
      "('forward', 'red', None, 'forward', None) {'forward': -0.049003733511909314, 'right': -0.009973372902326744, None: 0.003924591381826847, 'left': 0}\n",
      "('forward', 'red', 'right', None, None) {'forward': 0, 'right': 0, None: 0, 'left': -0.5}\n",
      "('left', 'red', 'forward', None, None) {'forward': -0.00960985746800536, 'right': 0, None: 0, 'left': 0}\n",
      "('left', 'green', None, 'forward', None) {'forward': -0.019267029736637162, 'right': -0.002420844171290142, None: 0.00017663509544954146, 'left': 0}\n",
      "('forward', 'green', None, None, 'forward') {'forward': 0.034265901019191615, 'right': 0, None: 0, 'left': 0}\n",
      "('forward', 'green', None, 'right', None) {'forward': 0.6692690090256391, 'right': 0, None: 0, 'left': 0}\n",
      "('right', 'green', None, None, 'left') {'forward': 0, 'right': 0, None: 0, 'left': -0.07388888888888888}\n",
      "('right', 'red', None, None, 'right') {'forward': -0.009193808998403236, 'right': 0, None: 0, 'left': 0}\n",
      "('forward', 'green', None, 'forward', None) {'forward': 0.9914871063856951, 'right': 0, None: 0, 'left': 0}\n",
      "('forward', 'green', 'right', None, None) {'forward': 0.045340980219101795, 'right': 0, None: 0, 'left': 0}\n",
      "('forward', 'green', None, None, 'right') {'forward': 0.11211165484265333, 'right': 0, None: 0, 'left': 0}\n",
      "('forward', 'red', 'left', None, None) {'forward': -0.027777777777777776, 'right': 0, None: 0, 'left': 0}\n",
      "('right', 'green', None, None, None) {'forward': -0.4927805605449429, 'right': 3.2417937736116156, None: 0.069, 'left': -0.48573333333333335}\n",
      "('left', 'red', None, None, None) {'forward': -0.9769113250979861, 'right': -0.4952932855328915, None: 0.16241164067344682, 'left': -1.0}\n",
      "('left', 'green', None, None, 'forward') {'forward': -0.0024149015318874704, 'right': 0, None: 0, 'left': 0}\n",
      "('left', 'green', 'left', None, None) {'forward': -0.02294631168880065, 'right': 0, None: 0, 'left': 0}\n"
     ]
    }
   ],
   "source": [
    "for k in q:\n",
    "    print k, q[k]"
   ]
  },
  {
   "cell_type": "code",
   "execution_count": 213,
   "metadata": {
    "collapsed": false
   },
   "outputs": [
    {
     "data": {
      "text/plain": [
       "'\\n        self.epsilon = 0.2\\n        self.gamma = 0.2\\n        self.alpha = 0.2\\n        state = self.waypoint only!!\\n'"
      ]
     },
     "execution_count": 213,
     "metadata": {},
     "output_type": "execute_result"
    }
   ],
   "source": [
    "'''\n",
    "        self.epsilon = 0.2\n",
    "        self.gamma = 0.2\n",
    "        self.alpha = 0.2\n",
    "        state = self.waypoint only!!\n",
    "'''"
   ]
  },
  {
   "cell_type": "code",
   "execution_count": 214,
   "metadata": {
    "collapsed": true
   },
   "outputs": [],
   "source": [
    "all_trial_moves = np.array([21, 46, 26, 19, 16, 14, 41, 26, 21, 21, 26, 26, 21, 26, 26, 41, 36, 26, 31, 31, 35, 41, 1, 36, 21, 21, 26, 26, 36, 46, 36, 21, 41, 41, 41, 26, 21, 56, 31, 21, 51, 21, 31, 26, 21, 46, 21, 26, 26, 26, 41, 16, 21, 31, 26, 21, 41, 31, 31, 26, 26, 21, 46, 26, 26, 21, 21, 21, 46, 56, 26, 26, 36, 41, 51, 21, 36, 46, 31, 36, 26, 26, 26, 41, 41, 41, 41, 21, 31, 26, 36, 31, 46, 36, 31, 21, 31, 21, 36, 21])"
   ]
  },
  {
   "cell_type": "code",
   "execution_count": 215,
   "metadata": {
    "collapsed": false
   },
   "outputs": [
    {
     "name": "stdout",
     "output_type": "stream",
     "text": [
      "31.5\n"
     ]
    }
   ],
   "source": [
    "print np.average(all_trial_moves[80:])"
   ]
  },
  {
   "cell_type": "code",
   "execution_count": null,
   "metadata": {
    "collapsed": true
   },
   "outputs": [],
   "source": [
    "'''\n",
    "        self.epsilon = 1./(self.iteration + 1)\n",
    "        self.gamma = 0.2\n",
    "        self.alpha = self.epsilon\n",
    "        self.state = (self.next_waypoint, inputs['light'], \n",
    "                inputs['oncoming'], inputs['left']) \n",
    "'''"
   ]
  },
  {
   "cell_type": "code",
   "execution_count": 227,
   "metadata": {
    "collapsed": true
   },
   "outputs": [],
   "source": [
    "all_trial_moves = np.array([20, 18, 12, 8, 10, 16, 15, 10, 13, 17, 21, 21, 10, 25, 9, 6, 20, 20, 14, 10, 11, 8, 12, 20, 16, 20, 8, 16, 4, 7, 10, 10, 12, 21, 9, 11, 10, 6, 20, 17, 18, 13, 23, 9, 10, 12, 12, 16, 12, 7, 9, 16, 15, 15, 11, 22, 12, 15, 13, 20, 13, 16, 20, 11, 13, 5, 5, 16, 8, 15, 7, 15, 15, 11, 9, 27, 5, 8, 11, 9, 27, 12, 5, 6, 9, 3, 9, 15, 20, 15, 21, 9, 6, 9, 20, 21, 6, 20, 5, 16])"
   ]
  },
  {
   "cell_type": "code",
   "execution_count": 228,
   "metadata": {
    "collapsed": false
   },
   "outputs": [
    {
     "name": "stdout",
     "output_type": "stream",
     "text": [
      "12.7\n"
     ]
    },
    {
     "data": {
      "image/png": "[encoded data removed]",
      "text/plain": [
       "<matplotlib.figure.Figure at 0x1169e4c10>"
      ]
     },
     "metadata": {},
     "output_type": "display_data"
    }
   ],
   "source": [
    "plt.bar(x,all_trial_moves)\n",
    "plt.xlabel('Iteration')\n",
    "plt.ylabel('Moves to Destination')\n",
    "plt.savefig('QLearningPath.png')\n",
    "print np.average(all_trial_moves[80:])"
   ]
  },
  {
   "cell_type": "code",
   "execution_count": 229,
   "metadata": {
    "collapsed": true
   },
   "outputs": [],
   "source": [
    "successes = [0, 1, 1, 1, 1, 1, 1, 1, 1, 1, 1, 1, 1, 1, 1, 1, 1, 1, 1, 1, 1, 1, 1, 1, 1, 1, 1, 1, 1, 1, 1, 1, 1, 1, 1, 1, 1, 1, 1, 1, 1, 1, 1, 1, 1, 1, 1, 1, 1, 1, 1, 1, 1, 1, 1, 1, 1, 1, 1, 1, 1, 1, 1, 1, 1, 1, 1, 1, 1, 1, 1, 1, 1, 1, 1, 1, 1, 1, 1, 1, 1, 1, 1, 1, 1, 1, 1, 1, 1, 1, 1, 1, 1, 1, 1, 1, 1, 1, 1, 1]"
   ]
  },
  {
   "cell_type": "code",
   "execution_count": 230,
   "metadata": {
    "collapsed": false
   },
   "outputs": [
    {
     "data": {
      "image/png": "[encoded data removed]",
      "text/plain": [
       "<matplotlib.figure.Figure at 0x1163329d0>"
      ]
     },
     "metadata": {},
     "output_type": "display_data"
    }
   ],
   "source": [
    "plt.bar(x,successes)\n",
    "plt.xlabel('Iteration')\n",
    "plt.ylabel('Smartcab Reaches Destination')\n",
    "plt.savefig('qlearning_smartcab.png')"
   ]
  },
  {
   "cell_type": "code",
   "execution_count": 231,
   "metadata": {
    "collapsed": true
   },
   "outputs": [],
   "source": [
    "all_rewards = {1: [0.0, -1.0, 0.0, 0.0, -0.5, 2.0, 0.0, 0.0, -0.5, 0.0, -1.0, -0.5, 0.0, -0.5, -0.5, -0.5, 2.0, 2.0, 2.0, -1.0, -0.5], 2: [0.0, 0.0, -1.0, 0.0, -1.0, 2.0, -1.0, 0.0, 0.0, 0.0, 2.0, 2.0, 0.0, 0.0, 0.0, 0.0, 2.0, -1.0, 12.0], 3: [-1.0, 0.0, 2.0, 2.0, 0.0, 0.0, 0.0, -1.0, -0.5, -0.5, -0.5, 2.0, 12.0], 4: [0.0, 0.0, -0.5, 2.0, -0.5, 0.0, 0.0, 0.0, 12.0], 5: [2.0, 2.0, 2.0, -0.5, 2.0, 2.0, 2.0, 2.0, 0.0, 2.0, 12.0], 6: [2.0, 2.0, 0.0, 0.0, -1.0, 2.0, 2.0, 0.0, 0.0, 2.0, 0.0, -1.0, 2.0, 0.0, 0.0, 0.0, 12.0], 7: [2.0, 0.0, 0.0, 0.0, 0.0, 2.0, 2.0, 0.0, 0.0, 2.0, 2.0, 0.0, 0.0, 0.0, 0.0, 12.0], 8: [2.0, 0.0, 0.0, 2.0, 0.0, 2.0, 0.0, 0.0, 0.0, 0.0, 12.0], 9: [2.0, 2.0, 2.0, 2.0, 0.0, 0.0, 2.0, 0.0, 0.0, 2.0, 2.0, 0.0, 2.0, 12.0], 10: [2.0, 2.0, 2.0, 0.0, 0.0, -1.0, 2.0, -0.5, 2.0, 0.0, 0.0, 0.0, 2.0, 0.0, 0.0, 2.0, 0.0, 12.0], 11: [2.0, 2.0, 0.0, 0.0, 0.0, 2.0, 0.0, -1.0, -0.5, 0.0, 0.0, 0.0, 2.0, 2.0, 0.0, 0.0, 2.0, 0.0, 0.0, -1.0, 2.0, 12.0], 12: [2.0, -0.5, 2.0, 2.0, -0.5, 0.0, 0.0, -0.5, 2.0, 2.0, 2.0, 0.0, 0.0, 0.0, 0.0, 2.0, 2.0, 2.0, 2.0, 2.0, 2.0, 12.0], 13: [2.0, 0.0, 0.0, 0.0, 2.0, 0.0, 0.0, 0.0, 2.0, 2.0, 12.0], 14: [2.0, -1.0, 0.0, 0.0, 0.0, 2.0, 2.0, 0.0, 0.0, 0.0, 2.0, -0.5, 2.0, 2.0, 2.0, 0.0, 0.0, 0.0, 2.0, 0.0, 2.0, 0.0, 0.0, 0.0, 0.0, 12.0], 15: [-0.5, 0.0, 0.0, 0.0, 0.0, 2.0, 2.0, 0.0, 0.0, 12.0], 16: [2.0, 2.0, 2.0, 2.0, 0.0, 0.0, 12.0], 17: [2.0, 2.0, -1.0, 0.0, 0.0, 2.0, 0.0, -1.0, 0.0, 0.0, 2.0, 2.0, -1.0, 2.0, 0.0, 2.0, 0.0, -1.0, 0.0, 0.0, 12.0], 18: [2.0, 0.0, 0.0, 0.0, 0.0, 2.0, 0.0, 0.0, 0.0, 0.0, 2.0, 2.0, 2.0, 0.0, 0.0, 2.0, 0.0, 0.0, 0.0, 0.0, 12.0], 19: [0.0, 0.0, 0.0, 2.0, 0.0, 0.0, 2.0, 0.0, 0.0, 0.0, 2.0, 0.0, 2.0, 2.0, 12.0], 20: [0.0, 0.0, 0.0, 2.0, 2.0, 2.0, 2.0, 0.0, 0.0, 0.0, 12.0], 21: [0.0, 0.0, 0.0, 0.0, 2.0, 2.0, 2.0, 0.0, 0.0, 0.0, 2.0, 12.0], 22: [-1.0, 2.0, 0.0, 0.0, 2.0, 2.0, 0.0, 0.0, 12.0], 23: [2.0, 2.0, 0.0, -1.0, 2.0, 0.0, 0.0, 0.0, 2.0, 2.0, 2.0, 2.0, 12.0], 24: [2.0, 0.0, 0.0, 0.0, 0.0, 2.0, 2.0, 0.0, 0.0, 0.0, 2.0, 0.0, 2.0, 0.0, 0.0, 0.0, 2.0, 0.0, 0.0, 0.0, 12.0], 25: [0.0, 0.0, 0.0, 2.0, 0.0, 0.0, 0.0, 0.0, 2.0, 0.0, 0.0, 0.0, 2.0, 0.0, 0.0, 2.0, 12.0], 26: [2.0, 2.0, 2.0, 0.0, 0.0, 0.0, 2.0, -1.0, -1.0, 2.0, 2.0, 0.0, 2.0, 0.0, 0.0, 2.0, 0.0, 0.0, 0.0, 0.0, 12.0], 27: [2.0, 2.0, 0.0, 0.0, 2.0, 0.0, 0.0, 0.0, 12.0], 28: [2.0, 0.0, 0.0, 0.0, 0.0, 2.0, 2.0, 0.0, 2.0, 0.0, 0.0, 0.0, 2.0, 0.0, 0.0, 0.0, 12.0], 29: [-0.5, 2.0, 0.0, 2.0, 12.0], 30: [0.0, 0.0, 0.0, 2.0, 2.0, 0.0, 2.0, 12.0], 31: [2.0, 2.0, 2.0, 2.0, -0.5, 2.0, -0.5, 2.0, 2.0, 2.0, 12.0], 32: [2.0, 0.0, 0.0, 0.0, 2.0, 0.0, 0.0, 0.0, 2.0, 2.0, 12.0], 33: [2.0, 2.0, 2.0, 0.0, 2.0, 2.0, 2.0, 0.0, 0.0, 2.0, 2.0, 0.0, 12.0], 34: [2.0, 2.0, 0.0, 0.0, 0.0, 2.0, 2.0, -1.0, -1.0, -0.5, 2.0, 0.0, 2.0, 2.0, 0.0, 2.0, 0.0, 0.0, 0.0, 0.0, 2.0, 12.0], 35: [0.0, -1.0, 0.0, 2.0, 2.0, 0.0, 0.0, 0.0, 2.0, 12.0], 36: [2.0, 2.0, 2.0, 2.0, 2.0, 2.0, 0.0, 0.0, 0.0, 2.0, 2.0, 12.0], 37: [2.0, 2.0, 2.0, 0.0, 0.0, 2.0, 2.0, 0.0, 2.0, 2.0, 12.0], 38: [2.0, 2.0, 0.0, 0.0, 0.0, 2.0, 12.0], 39: [0.0, 0.0, 0.0, 2.0, 0.0, 2.0, 0.0, 0.0, 2.0, 0.0, 0.0, 0.0, 2.0, 0.0, 0.0, -1.0, 2.0, 0.0, 0.0, 0.0, 12.0], 40: [2.0, 0.0, 0.0, 0.0, 2.0, 2.0, 0.0, 0.0, -0.5, 0.0, 0.0, 0.0, 2.0, 2.0, 0.0, 2.0, 2.0, 12.0], 41: [0.0, 0.0, 0.0, 0.0, 2.0, 0.0, 0.0, 0.0, 0.0, 0.0, 2.0, 2.0, 0.0, 0.0, 0.0, 2.0, 2.0, 2.0, 12.0], 42: [0.0, 0.0, 0.0, 0.0, 2.0, 2.0, 0.0, 0.0, 0.0, 0.0, 2.0, 0.0, 2.0, 12.0], 43: [0.0, 0.0, 0.0, 0.0, 0.0, 2.0, 0.0, 0.0, 0.0, 2.0, 0.0, 0.0, 2.0, 0.0, 0.0, 2.0, 2.0, 0.0, 0.0, 0.0, 2.0, 0.0, 2.0, 12.0], 44: [2.0, 2.0, 2.0, 0.0, 0.0, 2.0, 0.0, 0.0, 2.0, 12.0], 45: [0.0, 0.0, 0.0, 0.0, 2.0, 0.0, 0.0, 0.0, 2.0, 2.0, 12.0], 46: [-0.5, 2.0, 2.0, 0.0, 0.0, 0.0, 2.0, 2.0, 2.0, 0.0, 0.0, 0.0, 12.0], 47: [2.0, 2.0, 0.0, 0.0, 2.0, 0.0, 0.0, 0.0, 2.0, 2.0, 0.0, 0.0, 12.0], 48: [2.0, 2.0, 2.0, 2.0, 0.0, 0.0, 0.0, 0.0, 2.0, 2.0, 0.0, 0.0, 2.0, 2.0, 0.0, 0.0, 12.0], 49: [2.0, 2.0, -1.0, 0.0, 0.0, 2.0, 2.0, 0.0, 0.0, 0.0, 2.0, 0.0, 12.0], 50: [2.0, 2.0, 0.0, 2.0, 2.0, 2.0, 2.0, 12.0], 51: [-0.5, 2.0, 0.0, 2.0, 2.0, 2.0, 0.0, 0.0, 2.0, 12.0], 52: [2.0, 2.0, 2.0, 0.0, 0.0, 2.0, 2.0, 0.0, 0.0, -0.5, 0.0, 0.0, 2.0, 0.0, 0.0, 0.0, 12.0], 53: [0.0, 0.0, 0.0, 0.0, 0.0, 2.0, 2.0, 0.0, 0.0, 0.0, 2.0, 0.0, 0.0, 0.0, 0.0, 12.0], 54: [0.0, 0.0, 0.0, 2.0, 2.0, 0.0, 2.0, 0.0, 0.0, 0.0, 2.0, 0.0, 0.0, 0.0, 0.0, 12.0], 55: [-1.0, 2.0, 2.0, 0.0, 0.0, 0.0, 2.0, -0.5, 2.0, 2.0, 2.0, 12.0], 56: [0.0, 0.0, 0.0, 0.0, 2.0, 0.0, 0.0, 0.0, 2.0, 2.0, 0.0, 0.0, 0.0, 0.0, 0.0, 2.0, 0.0, 0.0, 0.0, 0.0, 2.0, 2.0, 12.0], 57: [2.0, 2.0, 0.0, 0.0, 0.0, 2.0, 0.0, 0.0, 0.0, 2.0, 2.0, 2.0, 12.0], 58: [2.0, 2.0, 0.0, 0.0, 0.0, 2.0, 0.0, 0.0, 0.0, 0.0, 2.0, 0.0, 0.0, 0.0, 0.0, 12.0], 59: [0.0, 0.0, 0.0, 0.0, 0.0, 2.0, 0.0, 0.0, 0.0, 0.0, 2.0, 0.0, 2.0, 12.0], 60: [2.0, 2.0, 0.0, 2.0, 2.0, 0.0, 2.0, 0.0, 0.0, 0.0, 2.0, 0.0, 2.0, 0.0, 0.0, 2.0, 2.0, 0.0, 0.0, 0.0, 12.0], 61: [0.0, 0.0, 0.0, 2.0, 0.0, 0.0, 0.0, 0.0, 2.0, 2.0, 2.0, 0.0, 2.0, 12.0], 62: [2.0, 2.0, 2.0, 2.0, 0.0, 0.0, 2.0, 0.0, 0.0, 0.0, 2.0, 0.0, 0.0, 0.0, 0.0, 2.0, 12.0], 63: [0.0, 0.0, 0.0, 0.0, 2.0, 0.0, 0.0, 0.0, 0.0, 0.0, 2.0, 2.0, 0.0, 0.0, 0.0, 2.0, 2.0, 0.0, 0.0, 0.0, 12.0], 64: [2.0, 0.0, 0.0, 0.0, 0.0, 2.0, 0.0, 0.0, 0.0, 0.0, 2.0, 12.0], 65: [0.0, -1.0, 0.0, 2.0, 2.0, 0.0, 2.0, 2.0, 2.0, 2.0, 0.0, 0.0, 2.0, 12.0], 66: [2.0, 2.0, 0.0, 2.0, 0.0, 12.0], 67: [2.0, 2.0, 0.0, 2.0, 0.0, 12.0], 68: [2.0, 2.0, 2.0, 0.0, 2.0, 0.0, 0.0, 0.0, 2.0, 0.0, 0.0, 0.0, 2.0, 0.0, 0.0, 0.0, 12.0], 69: [2.0, 2.0, 2.0, 0.0, 2.0, 0.0, 0.0, 0.0, 12.0], 70: [2.0, 2.0, 0.0, 2.0, 0.0, -0.5, 2.0, 2.0, 2.0, 0.0, 2.0, 0.0, 0.0, 0.0, 0.0, 12.0], 71: [2.0, 2.0, 2.0, 2.0, 0.0, 0.0, 2.0, 12.0], 72: [2.0, 0.0, 0.0, 0.0, 2.0, 0.0, 0.0, 0.0, 0.0, 0.0, 2.0, 2.0, 0.0, 0.0, 0.0, 12.0], 73: [2.0, 2.0, 0.0, 0.0, 2.0, 2.0, 0.0, 0.0, 0.0, 0.0, 2.0, 2.0, 0.0, 0.0, 0.0, 12.0], 74: [2.0, 2.0, 2.0, 2.0, 0.0, 0.0, 2.0, 0.0, 0.0, 0.0, 2.0, 12.0], 75: [0.0, 0.0, 0.0, 0.0, 2.0, 2.0, 2.0, 2.0, 2.0, 12.0], 76: [0.0, 0.0, 0.0, 0.0, 2.0, 2.0, 0.0, 0.0, 0.0, 0.0, 2.0, 0.0, 0.0, 0.0, 0.0, 2.0, 2.0, 2.0, 0.0, 0.0, 2.0, 0.0, 0.0, 0.0, 0.0, 2.0, 0.0, 12.0], 77: [2.0, 2.0, 0.0, 2.0, 0.0, 12.0], 78: [2.0, 2.0, 2.0, 2.0, 0.0, 0.0, 0.0, 0.0, 12.0], 79: [0.0, 0.0, 0.0, 2.0, 0.0, 0.0, 0.0, 0.0, 2.0, 0.0, 2.0, 12.0], 80: [-1.0, 2.0, 0.0, 0.0, 2.0, 2.0, 2.0, 0.0, 0.0, 12.0], 81: [2.0, 0.0, 0.0, 0.0, 0.0, 2.0, 2.0, 0.0, 0.0, 0.0, 2.0, 2.0, 2.0, 0.0, 0.0, 0.0, 2.0, 0.0, 0.0, 0.0, 2.0, 0.0, 0.0, 0.0, 2.0, 0.0, 0.0, 12.0], 82: [0.0, 0.0, 0.0, 0.0, 2.0, 2.0, 2.0, 0.0, 2.0, 0.0, 0.0, 0.0, 12.0], 83: [2.0, 2.0, 0.0, 0.0, 2.0, 12.0], 84: [2.0, 2.0, 0.0, 0.0, -1.0, 2.0, 12.0], 85: [0.0, 0.0, 0.0, 2.0, 2.0, 0.0, 2.0, 2.0, 2.0, 12.0], 86: [2.0, 2.0, 2.0, 12.0], 87: [0.0, 0.0, 0.0, 0.0, 2.0, 2.0, 0.0, 0.0, 2.0, 12.0], 88: [0.0, 0.0, 0.0, 2.0, 2.0, 0.0, 0.0, 0.0, 0.0, 0.0, 2.0, 2.0, 2.0, 0.0, 0.0, 12.0], 89: [2.0, 0.0, 0.0, 2.0, 0.0, 0.0, 0.0, 0.0, 2.0, 0.0, 0.0, 0.0, 2.0, 2.0, 2.0, 0.0, 0.0, 0.0, 0.0, 0.0, 12.0], 90: [2.0, 2.0, 2.0, 2.0, 0.0, 0.0, 0.0, 0.0, 2.0, 2.0, 0.0, 0.0, 0.0, 0.0, 0.0, 12.0], 91: [2.0, 0.0, 0.0, 2.0, 0.0, 0.0, 2.0, 0.0, 0.0, 2.0, 0.0, 0.0, 0.0, 0.0, 0.0, 2.0, 0.0, 0.0, 0.0, 0.0, 2.0, 12.0], 92: [2.0, 2.0, 0.0, 0.0, 2.0, 0.0, 0.0, 0.0, 2.0, 12.0], 93: [2.0, 0.0, 0.0, 2.0, 0.0, 2.0, 12.0], 94: [2.0, 2.0, 2.0, 0.0, 2.0, 0.0, 0.0, 0.0, 2.0, 12.0], 95: [2.0, 0.0, 0.0, 0.0, 2.0, 2.0, 2.0, 0.0, 0.0, 0.0, 2.0, 2.0, 2.0, 0.0, 0.0, 0.0, 2.0, 0.0, 0.0, 0.0, 12.0], 96: [0.0, 0.0, 0.0, 0.0, 2.0, 0.0, 2.0, 0.0, 0.0, 0.0, 2.0, 0.0, 2.0, 0.0, 0.0, 2.0, 2.0, 0.0, 0.0, 0.0, 2.0, 12.0], 97: [2.0, 2.0, 2.0, 0.0, 0.0, 0.0, 12.0], 98: [2.0, 0.0, 0.0, 2.0, 0.0, 0.0, 2.0, 0.0, 0.0, 2.0, 0.0, 0.0, 0.0, 0.0, 0.0, 2.0, 0.0, 0.0, 0.0, 0.0, 12.0], 99: [2.0, 2.0, 2.0, 2.0, 2.0, 12.0], 100: [2.0, 2.0, 0.0, 0.0, 0.0, 2.0, 2.0, 0.0, 0.0, 0.0, 2.0, 2.0, 0.0, 0.0, 0.0, 0.0, 12.0]}"
   ]
  },
  {
   "cell_type": "code",
   "execution_count": 234,
   "metadata": {
    "collapsed": false
   },
   "outputs": [
    {
     "data": {
      "image/png": "[encoded data removed]",
      "text/plain": [
       "<matplotlib.figure.Figure at 0x1160f5a50>"
      ]
     },
     "metadata": {},
     "output_type": "display_data"
    }
   ],
   "source": [
    "penalties_per_iteration = []\n",
    "for i in range(len(all_rewards)):\n",
    "    rewards = np.array(all_rewards[i+1])\n",
    "    penalties = len(rewards[rewards<0])\n",
    "    penalties_per_iteration.append(penalties)\n",
    "plt.bar(x,penalties_per_iteration)\n",
    "plt.xlabel('Iteration')\n",
    "plt.ylabel('Moves with penalties')\n",
    "plt.savefig('QlearningPenalties.png')"
   ]
  },
  {
   "cell_type": "code",
   "execution_count": 236,
   "metadata": {
    "collapsed": true
   },
   "outputs": [],
   "source": [
    "q={('forward', 'green', None, 'left'): {'forward': 0.18786356189900122, 'right': 0, None: 0, 'left': 0}, ('right', 'red', None, 'forward'): {'forward': -0.013333582631775016, 'right': 0.13655970777708767, None: 0, 'left': -0.00897447897353845}, ('forward', 'red', None, 'right'): {'forward': -0.06681022922906332, 'right': -0.012050410375956331, None: 0.012246944655657902, 'left': 0}, ('forward', 'green', 'right', None): {'forward': 0.2768428913618162, 'right': 0, None: 0, 'left': 0}, ('right', 'green', None, 'left'): {'forward': -0.01997898984381745, 'right': 0.04933599434387662, None: 0, 'left': 0}, ('left', 'green', None, None): {'forward': -0.03232774813499607, 'right': -0.09999999999999999, None: 0.0012433296594122996, 'left': 4.177357223204544}, ('forward', 'green', None, None): {'forward': 3.8105852335338923, 'right': -0.40381271797590446, None: 0.02766682107343367, 'left': -0.46430689497993305}, ('left', 'red', None, 'forward'): {'forward': 0, 'right': 0, None: 0, 'left': -1.0}, ('forward', 'red', 'left', None): {'forward': -0.05795847750865052, 'right': -0.00037900162841005903, None: 0.00013705388323681104, 'left': 0}, ('forward', 'red', 'forward', None): {'forward': -0.02430934413019405, 'right': -0.009273339355547364, None: 0.009170547424172192, 'left': 0}, ('forward', 'green', 'forward', None): {'forward': 0.7201922108858426, 'right': 0, None: 0, 'left': 0}, ('right', 'green', 'forward', None): {'forward': -0.007668020085287445, 'right': 0, None: 0, 'left': 0}, ('left', 'red', None, 'left'): {'forward': -0.015106624039671654, 'right': 0, None: 0, 'left': 0}, ('right', 'red', None, 'left'): {'forward': 0, 'right': 3.0, None: 0, 'left': 0}, ('forward', 'red', None, 'left'): {'forward': -0.05813878874407689, 'right': 0, None: 0, 'left': 0}, ('left', 'red', 'left', None): {'forward': 0, 'right': -0.01786152108883209, None: 0, 'left': 0}, ('forward', 'red', 'right', None): {'forward': -0.00681057646159607, 'right': 0, None: 0, 'left': 0}, ('right', 'green', None, None): {'forward': -0.40167676335775737, 'right': 2.60017018012417, None: 0.0, 'left': -0.125}, ('left', 'green', 'right', None): {'forward': 0, 'right': 0, None: 0, 'left': -0.02424177585773236}, ('right', 'green', None, 'forward'): {'forward': -0.005100847440668158, 'right': 0.03382726505641436, None: 0, 'left': 0}, ('forward', 'red', None, 'forward'): {'forward': -0.16666666666666666, 'right': 0, None: 0, 'left': 0}, ('forward', 'green', None, 'forward'): {'forward': 0.41395718138815524, 'right': 0, None: 0, 'left': 0}, ('left', 'green', None, 'right'): {'forward': -0.0031957834628318573, 'right': 0, None: 0, 'left': 0}, ('left', 'red', None, None): {'forward': -0.399, 'right': -0.31313185048918013, None: 0.16135466866848588, 'left': -0.1551111111111111}, ('right', 'red', None, None): {'forward': -0.3333333333333333, 'right': 3.080944978384805, None: 0.017395342156754586, 'left': -0.04472507023991816}, ('right', 'red', 'forward', None): {'forward': -0.06470818377806734, 'right': 0.1425772622282648, None: 0, 'left': 0}, ('forward', 'red', None, None): {'forward': -0.7259327905889839, 'right': -0.5, None: 0.1608141507910325, 'left': -0.8563131258216147}, ('forward', 'green', 'left', None): {'forward': 0.09381488025422097, 'right': 0, None: 0, 'left': 0}}"
   ]
  },
  {
   "cell_type": "code",
   "execution_count": 239,
   "metadata": {
    "collapsed": false
   },
   "outputs": [
    {
     "name": "stdout",
     "output_type": "stream",
     "text": [
      "('forward', 'green', None, 'left')\n",
      "action = {'forward': 0.18786356189900122, 'right': 0, None: 0, 'left': 0}, q-value = forward\n",
      "action = {'forward': 0.18786356189900122, 'right': 0, None: 0, 'left': 0}, q-value = right\n",
      "action = {'forward': 0.18786356189900122, 'right': 0, None: 0, 'left': 0}, q-value = None\n",
      "action = {'forward': 0.18786356189900122, 'right': 0, None: 0, 'left': 0}, q-value = left\n",
      "('left', 'red', None, None)\n",
      "action = {'forward': -0.399, 'right': -0.31313185048918013, None: 0.16135466866848588, 'left': -0.1551111111111111}, q-value = forward\n",
      "action = {'forward': -0.399, 'right': -0.31313185048918013, None: 0.16135466866848588, 'left': -0.1551111111111111}, q-value = right\n",
      "action = {'forward': -0.399, 'right': -0.31313185048918013, None: 0.16135466866848588, 'left': -0.1551111111111111}, q-value = None\n",
      "action = {'forward': -0.399, 'right': -0.31313185048918013, None: 0.16135466866848588, 'left': -0.1551111111111111}, q-value = left\n",
      "('forward', 'red', None, 'right')\n",
      "action = {'forward': -0.06681022922906332, 'right': -0.012050410375956331, None: 0.012246944655657902, 'left': 0}, q-value = forward\n",
      "action = {'forward': -0.06681022922906332, 'right': -0.012050410375956331, None: 0.012246944655657902, 'left': 0}, q-value = right\n",
      "action = {'forward': -0.06681022922906332, 'right': -0.012050410375956331, None: 0.012246944655657902, 'left': 0}, q-value = None\n",
      "action = {'forward': -0.06681022922906332, 'right': -0.012050410375956331, None: 0.012246944655657902, 'left': 0}, q-value = left\n",
      "('forward', 'green', 'right', None)\n",
      "action = {'forward': 0.2768428913618162, 'right': 0, None: 0, 'left': 0}, q-value = forward\n",
      "action = {'forward': 0.2768428913618162, 'right': 0, None: 0, 'left': 0}, q-value = right\n",
      "action = {'forward': 0.2768428913618162, 'right': 0, None: 0, 'left': 0}, q-value = None\n",
      "action = {'forward': 0.2768428913618162, 'right': 0, None: 0, 'left': 0}, q-value = left\n",
      "('right', 'green', None, 'left')\n",
      "action = {'forward': -0.01997898984381745, 'right': 0.04933599434387662, None: 0, 'left': 0}, q-value = forward\n",
      "action = {'forward': -0.01997898984381745, 'right': 0.04933599434387662, None: 0, 'left': 0}, q-value = right\n",
      "action = {'forward': -0.01997898984381745, 'right': 0.04933599434387662, None: 0, 'left': 0}, q-value = None\n",
      "action = {'forward': -0.01997898984381745, 'right': 0.04933599434387662, None: 0, 'left': 0}, q-value = left\n",
      "('left', 'green', None, None)\n",
      "action = {'forward': -0.03232774813499607, 'right': -0.09999999999999999, None: 0.0012433296594122996, 'left': 4.177357223204544}, q-value = forward\n",
      "action = {'forward': -0.03232774813499607, 'right': -0.09999999999999999, None: 0.0012433296594122996, 'left': 4.177357223204544}, q-value = right\n",
      "action = {'forward': -0.03232774813499607, 'right': -0.09999999999999999, None: 0.0012433296594122996, 'left': 4.177357223204544}, q-value = None\n",
      "action = {'forward': -0.03232774813499607, 'right': -0.09999999999999999, None: 0.0012433296594122996, 'left': 4.177357223204544}, q-value = left\n",
      "('forward', 'green', None, None)\n",
      "action = {'forward': 3.8105852335338923, 'right': -0.40381271797590446, None: 0.02766682107343367, 'left': -0.46430689497993305}, q-value = forward\n",
      "action = {'forward': 3.8105852335338923, 'right': -0.40381271797590446, None: 0.02766682107343367, 'left': -0.46430689497993305}, q-value = right\n",
      "action = {'forward': 3.8105852335338923, 'right': -0.40381271797590446, None: 0.02766682107343367, 'left': -0.46430689497993305}, q-value = None\n",
      "action = {'forward': 3.8105852335338923, 'right': -0.40381271797590446, None: 0.02766682107343367, 'left': -0.46430689497993305}, q-value = left\n",
      "('left', 'red', None, 'forward')\n",
      "action = {'forward': 0, 'right': 0, None: 0, 'left': -1.0}, q-value = forward\n",
      "action = {'forward': 0, 'right': 0, None: 0, 'left': -1.0}, q-value = right\n",
      "action = {'forward': 0, 'right': 0, None: 0, 'left': -1.0}, q-value = None\n",
      "action = {'forward': 0, 'right': 0, None: 0, 'left': -1.0}, q-value = left\n",
      "('forward', 'red', 'left', None)\n",
      "action = {'forward': -0.05795847750865052, 'right': -0.00037900162841005903, None: 0.00013705388323681104, 'left': 0}, q-value = forward\n",
      "action = {'forward': -0.05795847750865052, 'right': -0.00037900162841005903, None: 0.00013705388323681104, 'left': 0}, q-value = right\n",
      "action = {'forward': -0.05795847750865052, 'right': -0.00037900162841005903, None: 0.00013705388323681104, 'left': 0}, q-value = None\n",
      "action = {'forward': -0.05795847750865052, 'right': -0.00037900162841005903, None: 0.00013705388323681104, 'left': 0}, q-value = left\n",
      "('forward', 'red', 'forward', None)\n",
      "action = {'forward': -0.02430934413019405, 'right': -0.009273339355547364, None: 0.009170547424172192, 'left': 0}, q-value = forward\n",
      "action = {'forward': -0.02430934413019405, 'right': -0.009273339355547364, None: 0.009170547424172192, 'left': 0}, q-value = right\n",
      "action = {'forward': -0.02430934413019405, 'right': -0.009273339355547364, None: 0.009170547424172192, 'left': 0}, q-value = None\n",
      "action = {'forward': -0.02430934413019405, 'right': -0.009273339355547364, None: 0.009170547424172192, 'left': 0}, q-value = left\n",
      "('forward', 'green', 'forward', None)\n",
      "action = {'forward': 0.7201922108858426, 'right': 0, None: 0, 'left': 0}, q-value = forward\n",
      "action = {'forward': 0.7201922108858426, 'right': 0, None: 0, 'left': 0}, q-value = right\n",
      "action = {'forward': 0.7201922108858426, 'right': 0, None: 0, 'left': 0}, q-value = None\n",
      "action = {'forward': 0.7201922108858426, 'right': 0, None: 0, 'left': 0}, q-value = left\n",
      "('forward', 'red', None, 'left')\n",
      "action = {'forward': -0.05813878874407689, 'right': 0, None: 0, 'left': 0}, q-value = forward\n",
      "action = {'forward': -0.05813878874407689, 'right': 0, None: 0, 'left': 0}, q-value = right\n",
      "action = {'forward': -0.05813878874407689, 'right': 0, None: 0, 'left': 0}, q-value = None\n",
      "action = {'forward': -0.05813878874407689, 'right': 0, None: 0, 'left': 0}, q-value = left\n",
      "('left', 'red', None, 'left')\n",
      "action = {'forward': -0.015106624039671654, 'right': 0, None: 0, 'left': 0}, q-value = forward\n",
      "action = {'forward': -0.015106624039671654, 'right': 0, None: 0, 'left': 0}, q-value = right\n",
      "action = {'forward': -0.015106624039671654, 'right': 0, None: 0, 'left': 0}, q-value = None\n",
      "action = {'forward': -0.015106624039671654, 'right': 0, None: 0, 'left': 0}, q-value = left\n",
      "('right', 'red', None, 'left')\n",
      "action = {'forward': 0, 'right': 3.0, None: 0, 'left': 0}, q-value = forward\n",
      "action = {'forward': 0, 'right': 3.0, None: 0, 'left': 0}, q-value = right\n",
      "action = {'forward': 0, 'right': 3.0, None: 0, 'left': 0}, q-value = None\n",
      "action = {'forward': 0, 'right': 3.0, None: 0, 'left': 0}, q-value = left\n",
      "('right', 'green', 'forward', None)\n",
      "action = {'forward': -0.007668020085287445, 'right': 0, None: 0, 'left': 0}, q-value = forward\n",
      "action = {'forward': -0.007668020085287445, 'right': 0, None: 0, 'left': 0}, q-value = right\n",
      "action = {'forward': -0.007668020085287445, 'right': 0, None: 0, 'left': 0}, q-value = None\n",
      "action = {'forward': -0.007668020085287445, 'right': 0, None: 0, 'left': 0}, q-value = left\n",
      "('left', 'red', 'left', None)\n",
      "action = {'forward': 0, 'right': -0.01786152108883209, None: 0, 'left': 0}, q-value = forward\n",
      "action = {'forward': 0, 'right': -0.01786152108883209, None: 0, 'left': 0}, q-value = right\n",
      "action = {'forward': 0, 'right': -0.01786152108883209, None: 0, 'left': 0}, q-value = None\n",
      "action = {'forward': 0, 'right': -0.01786152108883209, None: 0, 'left': 0}, q-value = left\n",
      "('forward', 'red', 'right', None)\n",
      "action = {'forward': -0.00681057646159607, 'right': 0, None: 0, 'left': 0}, q-value = forward\n",
      "action = {'forward': -0.00681057646159607, 'right': 0, None: 0, 'left': 0}, q-value = right\n",
      "action = {'forward': -0.00681057646159607, 'right': 0, None: 0, 'left': 0}, q-value = None\n",
      "action = {'forward': -0.00681057646159607, 'right': 0, None: 0, 'left': 0}, q-value = left\n",
      "('right', 'green', None, None)\n",
      "action = {'forward': -0.40167676335775737, 'right': 2.60017018012417, None: 0.0, 'left': -0.125}, q-value = forward\n",
      "action = {'forward': -0.40167676335775737, 'right': 2.60017018012417, None: 0.0, 'left': -0.125}, q-value = right\n",
      "action = {'forward': -0.40167676335775737, 'right': 2.60017018012417, None: 0.0, 'left': -0.125}, q-value = None\n",
      "action = {'forward': -0.40167676335775737, 'right': 2.60017018012417, None: 0.0, 'left': -0.125}, q-value = left\n",
      "('left', 'green', 'right', None)\n",
      "action = {'forward': 0, 'right': 0, None: 0, 'left': -0.02424177585773236}, q-value = forward\n",
      "action = {'forward': 0, 'right': 0, None: 0, 'left': -0.02424177585773236}, q-value = right\n",
      "action = {'forward': 0, 'right': 0, None: 0, 'left': -0.02424177585773236}, q-value = None\n",
      "action = {'forward': 0, 'right': 0, None: 0, 'left': -0.02424177585773236}, q-value = left\n",
      "('right', 'green', None, 'forward')\n",
      "action = {'forward': -0.005100847440668158, 'right': 0.03382726505641436, None: 0, 'left': 0}, q-value = forward\n",
      "action = {'forward': -0.005100847440668158, 'right': 0.03382726505641436, None: 0, 'left': 0}, q-value = right\n",
      "action = {'forward': -0.005100847440668158, 'right': 0.03382726505641436, None: 0, 'left': 0}, q-value = None\n",
      "action = {'forward': -0.005100847440668158, 'right': 0.03382726505641436, None: 0, 'left': 0}, q-value = left\n",
      "('right', 'red', None, None)\n",
      "action = {'forward': -0.3333333333333333, 'right': 3.080944978384805, None: 0.017395342156754586, 'left': -0.04472507023991816}, q-value = forward\n",
      "action = {'forward': -0.3333333333333333, 'right': 3.080944978384805, None: 0.017395342156754586, 'left': -0.04472507023991816}, q-value = right\n",
      "action = {'forward': -0.3333333333333333, 'right': 3.080944978384805, None: 0.017395342156754586, 'left': -0.04472507023991816}, q-value = None\n",
      "action = {'forward': -0.3333333333333333, 'right': 3.080944978384805, None: 0.017395342156754586, 'left': -0.04472507023991816}, q-value = left\n",
      "('forward', 'green', None, 'forward')\n",
      "action = {'forward': 0.41395718138815524, 'right': 0, None: 0, 'left': 0}, q-value = forward\n",
      "action = {'forward': 0.41395718138815524, 'right': 0, None: 0, 'left': 0}, q-value = right\n",
      "action = {'forward': 0.41395718138815524, 'right': 0, None: 0, 'left': 0}, q-value = None\n",
      "action = {'forward': 0.41395718138815524, 'right': 0, None: 0, 'left': 0}, q-value = left\n",
      "('left', 'green', None, 'right')\n",
      "action = {'forward': -0.0031957834628318573, 'right': 0, None: 0, 'left': 0}, q-value = forward\n",
      "action = {'forward': -0.0031957834628318573, 'right': 0, None: 0, 'left': 0}, q-value = right\n",
      "action = {'forward': -0.0031957834628318573, 'right': 0, None: 0, 'left': 0}, q-value = None\n",
      "action = {'forward': -0.0031957834628318573, 'right': 0, None: 0, 'left': 0}, q-value = left\n",
      "('right', 'red', None, 'forward')\n",
      "action = {'forward': -0.013333582631775016, 'right': 0.13655970777708767, None: 0, 'left': -0.00897447897353845}, q-value = forward\n",
      "action = {'forward': -0.013333582631775016, 'right': 0.13655970777708767, None: 0, 'left': -0.00897447897353845}, q-value = right\n",
      "action = {'forward': -0.013333582631775016, 'right': 0.13655970777708767, None: 0, 'left': -0.00897447897353845}, q-value = None\n",
      "action = {'forward': -0.013333582631775016, 'right': 0.13655970777708767, None: 0, 'left': -0.00897447897353845}, q-value = left\n",
      "('forward', 'red', None, 'forward')\n",
      "action = {'forward': -0.16666666666666666, 'right': 0, None: 0, 'left': 0}, q-value = forward\n",
      "action = {'forward': -0.16666666666666666, 'right': 0, None: 0, 'left': 0}, q-value = right\n",
      "action = {'forward': -0.16666666666666666, 'right': 0, None: 0, 'left': 0}, q-value = None\n",
      "action = {'forward': -0.16666666666666666, 'right': 0, None: 0, 'left': 0}, q-value = left\n",
      "('right', 'red', 'forward', None)\n",
      "action = {'forward': -0.06470818377806734, 'right': 0.1425772622282648, None: 0, 'left': 0}, q-value = forward\n",
      "action = {'forward': -0.06470818377806734, 'right': 0.1425772622282648, None: 0, 'left': 0}, q-value = right\n",
      "action = {'forward': -0.06470818377806734, 'right': 0.1425772622282648, None: 0, 'left': 0}, q-value = None\n",
      "action = {'forward': -0.06470818377806734, 'right': 0.1425772622282648, None: 0, 'left': 0}, q-value = left\n",
      "('forward', 'red', None, None)\n",
      "action = {'forward': -0.7259327905889839, 'right': -0.5, None: 0.1608141507910325, 'left': -0.8563131258216147}, q-value = forward\n",
      "action = {'forward': -0.7259327905889839, 'right': -0.5, None: 0.1608141507910325, 'left': -0.8563131258216147}, q-value = right\n",
      "action = {'forward': -0.7259327905889839, 'right': -0.5, None: 0.1608141507910325, 'left': -0.8563131258216147}, q-value = None\n",
      "action = {'forward': -0.7259327905889839, 'right': -0.5, None: 0.1608141507910325, 'left': -0.8563131258216147}, q-value = left\n",
      "('forward', 'green', 'left', None)\n",
      "action = {'forward': 0.09381488025422097, 'right': 0, None: 0, 'left': 0}, q-value = forward\n",
      "action = {'forward': 0.09381488025422097, 'right': 0, None: 0, 'left': 0}, q-value = right\n",
      "action = {'forward': 0.09381488025422097, 'right': 0, None: 0, 'left': 0}, q-value = None\n",
      "action = {'forward': 0.09381488025422097, 'right': 0, None: 0, 'left': 0}, q-value = left\n"
     ]
    }
   ],
   "source": [
    "for k in q:\n",
    "    print k\n",
    "    for v in q[k]:\n",
    "        print \"action = {}, q-value = {}\".format(q[k], v)"
   ]
  },
  {
   "cell_type": "code",
   "execution_count": 240,
   "metadata": {
    "collapsed": true
   },
   "outputs": [],
   "source": [
    "all_trial_moves = np.array([45, 11, 12, 10, 12, 16, 15, 17, 20, 11, 12, 10, 8, 12, 10, 27, 21, 9, 3, 11, 11, 14, 12, 21, 11, 11, 30, 23, 9, 16, 20, 31, 12, 10, 16, 25, 8, 12, 17, 30, 20, 11, 4, 18, 11, 10, 15, 22, 5, 20, 18, 8, 20, 17, 11, 19, 3, 8, 13, 12, 12, 14, 25, 11, 14, 19, 12, 13, 18, 12, 11, 10, 10, 9, 8, 11, 20, 12, 15, 6, 6, 15, 14, 3, 4, 7, 4, 8, 20, 20, 15, 8, 3, 6, 30, 13, 10, 22, 25, 7])"
   ]
  },
  {
   "cell_type": "code",
   "execution_count": 241,
   "metadata": {
    "collapsed": false
   },
   "outputs": [
    {
     "data": {
      "text/plain": [
       "12.0"
      ]
     },
     "execution_count": 241,
     "metadata": {},
     "output_type": "execute_result"
    }
   ],
   "source": [
    "np.average(all_trial_moves[80:])"
   ]
  },
  {
   "cell_type": "code",
   "execution_count": null,
   "metadata": {
    "collapsed": true
   },
   "outputs": [],
   "source": []
  }
 ],
 "metadata": {
  "kernelspec": {
   "display_name": "Python 2",
   "language": "python",
   "name": "python2"
  },
  "language_info": {
   "codemirror_mode": {
    "name": "ipython",
    "version": 2
   },
   "file_extension": ".py",
   "mimetype": "text/x-python",
   "name": "python",
   "nbconvert_exporter": "python",
   "pygments_lexer": "ipython2",
   "version": "2.7.12"
  }
 },
 "nbformat": 4,
 "nbformat_minor": 0
}
